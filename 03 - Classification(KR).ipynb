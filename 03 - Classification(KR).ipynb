{
 "cells": [
  {
   "cell_type": "markdown",
   "metadata": {},
   "source": [
    "# Classification\n",
    "\n",
    "*지도학습* 기법에는 일련의 변수와 알고 있는 라벨 값이 포함된 데이터 세트를 학습하여 *라벨*을 예측합니다.***y***는 예측하려는 레이블을 나타내고 ***X*** 는 모델을 예측하기 위해 사용하는 변수의 벡터를 나타냅니다.\n",
    "\n",
    "$$ y = f([x_1, x_2, x_3, ...]) $$\n",
    "\n",
    "\n",
    "*분류*는 예측 변수(***X***)를 학습하여 레이블(***y***)을 예측하는 지도 머신 러닝의 한 형태입니다. 가능한 각 클래스에 속하는 관찰 된 케이스의 확률과 적절한 레이블을 예측합니다. 가장 간단한 분류 형식은 이진분류이며, 여기서 레이블은 두 클래스 중 하나를 나타내는 0 또는 1입니다.(예 : \"True\" 또는 \"False\"; \"내부\" 또는 \"외부\"; \"수익성\" 또는 \"수익성 없음\" 등)."
   ]
  },
  {
   "cell_type": "markdown",
   "metadata": {},
   "source": [
    "## 이진 분류\n",
    "\n",
    "모델이 두 클래스 중 하나에 속하는 레이블을 예측해야 하는 이진 분류의 예를 살펴 보겠습니다. 이 연습에서는 일부 의료 데이터를 기반으로 환자가 당뇨병 검사를 받아야하는지 여부를 예측하기 위해 이진 분류기를 훈련합니다.\n",
    "\n",
    "### 데이터 탐색\n",
    "\n",
    "다음 셀을 실행하여 특허 데이터의 CSV 파일을*Pandas*데이터 프레임에 로드 합니다.\n",
    "\n",
    ">*인용*: 이 연습에 사용 된 당뇨병 데이터 세트는 원래 the National Institute of Diabetes and Digestive and Kidney Diseases에서 수집한 데이터를 기반으로 합니다."
   ]
  },
  {
   "cell_type": "code",
   "execution_count": 1,
   "metadata": {},
   "outputs": [
    {
     "data": {
      "text/html": [
       "<div>\n",
       "<style scoped>\n",
       "    .dataframe tbody tr th:only-of-type {\n",
       "        vertical-align: middle;\n",
       "    }\n",
       "\n",
       "    .dataframe tbody tr th {\n",
       "        vertical-align: top;\n",
       "    }\n",
       "\n",
       "    .dataframe thead th {\n",
       "        text-align: right;\n",
       "    }\n",
       "</style>\n",
       "<table border=\"1\" class=\"dataframe\">\n",
       "  <thead>\n",
       "    <tr style=\"text-align: right;\">\n",
       "      <th></th>\n",
       "      <th>PatientID</th>\n",
       "      <th>Pregnancies</th>\n",
       "      <th>PlasmaGlucose</th>\n",
       "      <th>DiastolicBloodPressure</th>\n",
       "      <th>TricepsThickness</th>\n",
       "      <th>SerumInsulin</th>\n",
       "      <th>BMI</th>\n",
       "      <th>DiabetesPedigree</th>\n",
       "      <th>Age</th>\n",
       "      <th>Diabetic</th>\n",
       "    </tr>\n",
       "  </thead>\n",
       "  <tbody>\n",
       "    <tr>\n",
       "      <th>0</th>\n",
       "      <td>1354778</td>\n",
       "      <td>0</td>\n",
       "      <td>171</td>\n",
       "      <td>80</td>\n",
       "      <td>34</td>\n",
       "      <td>23</td>\n",
       "      <td>43.509726</td>\n",
       "      <td>1.213191</td>\n",
       "      <td>21</td>\n",
       "      <td>0</td>\n",
       "    </tr>\n",
       "    <tr>\n",
       "      <th>1</th>\n",
       "      <td>1147438</td>\n",
       "      <td>8</td>\n",
       "      <td>92</td>\n",
       "      <td>93</td>\n",
       "      <td>47</td>\n",
       "      <td>36</td>\n",
       "      <td>21.240576</td>\n",
       "      <td>0.158365</td>\n",
       "      <td>23</td>\n",
       "      <td>0</td>\n",
       "    </tr>\n",
       "    <tr>\n",
       "      <th>2</th>\n",
       "      <td>1640031</td>\n",
       "      <td>7</td>\n",
       "      <td>115</td>\n",
       "      <td>47</td>\n",
       "      <td>52</td>\n",
       "      <td>35</td>\n",
       "      <td>41.511523</td>\n",
       "      <td>0.079019</td>\n",
       "      <td>23</td>\n",
       "      <td>0</td>\n",
       "    </tr>\n",
       "    <tr>\n",
       "      <th>3</th>\n",
       "      <td>1883350</td>\n",
       "      <td>9</td>\n",
       "      <td>103</td>\n",
       "      <td>78</td>\n",
       "      <td>25</td>\n",
       "      <td>304</td>\n",
       "      <td>29.582192</td>\n",
       "      <td>1.282870</td>\n",
       "      <td>43</td>\n",
       "      <td>1</td>\n",
       "    </tr>\n",
       "    <tr>\n",
       "      <th>4</th>\n",
       "      <td>1424119</td>\n",
       "      <td>1</td>\n",
       "      <td>85</td>\n",
       "      <td>59</td>\n",
       "      <td>27</td>\n",
       "      <td>35</td>\n",
       "      <td>42.604536</td>\n",
       "      <td>0.549542</td>\n",
       "      <td>22</td>\n",
       "      <td>0</td>\n",
       "    </tr>\n",
       "  </tbody>\n",
       "</table>\n",
       "</div>"
      ],
      "text/plain": [
       "   PatientID  Pregnancies  PlasmaGlucose  DiastolicBloodPressure  \\\n",
       "0    1354778            0            171                      80   \n",
       "1    1147438            8             92                      93   \n",
       "2    1640031            7            115                      47   \n",
       "3    1883350            9            103                      78   \n",
       "4    1424119            1             85                      59   \n",
       "\n",
       "   TricepsThickness  SerumInsulin        BMI  DiabetesPedigree  Age  Diabetic  \n",
       "0                34            23  43.509726          1.213191   21         0  \n",
       "1                47            36  21.240576          0.158365   23         0  \n",
       "2                52            35  41.511523          0.079019   23         0  \n",
       "3                25           304  29.582192          1.282870   43         1  \n",
       "4                27            35  42.604536          0.549542   22         0  "
      ]
     },
     "execution_count": 1,
     "metadata": {},
     "output_type": "execute_result"
    }
   ],
   "source": [
    "import pandas as pd\n",
    "\n",
    "# load the training dataset\n",
    "diabetes = pd.read_csv('data/diabetes.csv')\n",
    "diabetes.head()"
   ]
  },
  {
   "cell_type": "markdown",
   "metadata": {},
   "source": [
    "이 데이터는 당뇨병 검사를 받은 일부 환자에 대한 진단 정보로 구성된다. 필요한 경우 오른쪽으로 스크롤하고 데이터 세트의 마지막 열(**Diabetic**)에 당뇨병 음성 테스트 환자의 경우 값 *0*, 양성 테스트 환자의 경우 값이 *1*이 포함되어 있습니다. 이것은 예측하기 위해 모델을 훈련시킬 레이블입니다. 대부분의 다른 열 (**Pregnancies**,**PlasmaGlucose**,**DiastolicBloodPressure** 등)은 *당뇨병* 라벨을 예측하는데 사용할 특징입니다.\n",
    "\n",
    "전체 변수에서 레이블에서 분리 해보겠습니다. 예측 변수를 **X**, 레이블 **y**라고 합니다."
   ]
  },
  {
   "cell_type": "code",
   "execution_count": 2,
   "metadata": {
    "tags": []
   },
   "outputs": [
    {
     "name": "stdout",
     "output_type": "stream",
     "text": [
      "Patient 1 \n",
      "  Features: [0.0, 171.0, 80.0, 34.0, 23.0, 43.50972593, 1.213191354, 21.0] \n",
      "  Label: 0\n",
      "Patient 2 \n",
      "  Features: [8.0, 92.0, 93.0, 47.0, 36.0, 21.24057571, 0.158364981, 23.0] \n",
      "  Label: 0\n",
      "Patient 3 \n",
      "  Features: [7.0, 115.0, 47.0, 52.0, 35.0, 41.51152348, 0.079018568, 23.0] \n",
      "  Label: 0\n",
      "Patient 4 \n",
      "  Features: [9.0, 103.0, 78.0, 25.0, 304.0, 29.58219193, 1.282869847, 43.0] \n",
      "  Label: 1\n"
     ]
    }
   ],
   "source": [
    "# Separate features and labels\n",
    "features = ['Pregnancies','PlasmaGlucose','DiastolicBloodPressure','TricepsThickness','SerumInsulin','BMI','DiabetesPedigree','Age']\n",
    "label = 'Diabetic'\n",
    "X, y = diabetes[features].values, diabetes[label].values\n",
    "\n",
    "for n in range(0,4):\n",
    "    print(\"Patient\", str(n+1), \"\\n  Features:\",list(X[n]), \"\\n  Label:\", y[n])"
   ]
  },
  {
   "cell_type": "markdown",
   "metadata": {},
   "source": [
    "이제 각 레이블 값에 대한 변수들의 분포를 비교해 보겠습니다."
   ]
  },
  {
   "cell_type": "code",
   "execution_count": 3,
   "metadata": {},
   "outputs": [
    {
     "data": {
      "image/png": "[encoded data removed]",
      "text/plain": [
       "<Figure size 432x432 with 1 Axes>"
      ]
     },
     "metadata": {
      "needs_background": "light"
     },
     "output_type": "display_data"
    },
    {
     "data": {
      "image/png": "[encoded data removed]",
      "text/plain": [
       "<Figure size 432x432 with 1 Axes>"
      ]
     },
     "metadata": {
      "needs_background": "light"
     },
     "output_type": "display_data"
    },
    {
     "data": {
      "image/png": "[encoded data removed]",
      "text/plain": [
       "<Figure size 432x432 with 1 Axes>"
      ]
     },
     "metadata": {
      "needs_background": "light"
     },
     "output_type": "display_data"
    },
    {
     "data": {
      "image/png": "[encoded data removed]",
      "text/plain": [
       "<Figure size 432x432 with 1 Axes>"
      ]
     },
     "metadata": {
      "needs_background": "light"
     },
     "output_type": "display_data"
    },
    {
     "data": {
      "image/png": "[encoded data removed]",
      "text/plain": [
       "<Figure size 432x432 with 1 Axes>"
      ]
     },
     "metadata": {
      "needs_background": "light"
     },
     "output_type": "display_data"
    },
    {
     "data": {
      "image/png": "[encoded data removed]",
      "text/plain": [
       "<Figure size 432x432 with 1 Axes>"
      ]
     },
     "metadata": {
      "needs_background": "light"
     },
     "output_type": "display_data"
    },
    {
     "data": {
      "image/png": "[encoded data removed]",
      "text/plain": [
       "<Figure size 432x432 with 1 Axes>"
      ]
     },
     "metadata": {
      "needs_background": "light"
     },
     "output_type": "display_data"
    },
    {
     "data": {
      "image/png": "[encoded data removed]",
      "text/plain": [
       "<Figure size 432x432 with 1 Axes>"
      ]
     },
     "metadata": {
      "needs_background": "light"
     },
     "output_type": "display_data"
    }
   ],
   "source": [
    "from matplotlib import pyplot as plt\n",
    "%matplotlib inline\n",
    "\n",
    "features = ['Pregnancies','PlasmaGlucose','DiastolicBloodPressure','TricepsThickness','SerumInsulin','BMI','DiabetesPedigree','Age']\n",
    "for col in features:\n",
    "    diabetes.boxplot(column=col, by='Diabetic', figsize=(6,6))\n",
    "    plt.title(col)\n",
    "plt.show()"
   ]
  },
  {
   "cell_type": "markdown",
   "metadata": {},
   "source": [
    "일부 특징의 경우 각 라벨 값의 분포에 눈에 띄는 차이가 있습니다. 특히 **Pregnancies**과 **Age**은 당뇨병 환자의 분포가 비당뇨병 환자와 현저하게 다릅니다. 이러한 변수는 환자가 당뇨병인지 여부를 예측하는데 도움이 될 수 있습니다.\n",
    "\n",
    "### 데이터 분할\n",
    "\n",
    "우리의 데이터 세트에는 레이블에 대해 알려진 값이 포함되어 있으므로 이를 사용하여 분류기를 훈련시켜 기능과 레이블 값 간의 통계적 관계를 찾을 수 있습니다. 하지만 우리 모델이 좋은지 어떻게 알 수 있을까요? 또한 훈련되지 않은 새로운 데이터와 함께 사용할 때 올바르게 예측할 수 있는지 어떻게 알 수 있을까요? 우리는 알려진 레이블 값이 있는 대규모 데이터 세트가 있다는 사실을 활용하고, 일부만 사용하여 모델을 훈련시키고, 훈련된 모델을 테스트하기 위해 일부 데이터를 사용하지 않고 예측된 레이블을 실제 레이블과 비교할 수 있습니다.\n",
    "\n",
    "Python에서 **scikit-learn** 패키지에는 학습 및 테스트 데이터를 통계적으로 무작위로 분할 할 수 있도록 보장하는 **train_test_split** 함수를 포함하여 머신 러닝 모델을 구축하는데 사용할 수 있는 많은 함수가 포함되어 있습니다. 이를 사용하여 학습을 위해 데이터를 70%로 분할하고 테스트를 위해 30%를 남깁니다."
   ]
  },
  {
   "cell_type": "code",
   "execution_count": 4,
   "metadata": {
    "tags": []
   },
   "outputs": [
    {
     "name": "stdout",
     "output_type": "stream",
     "text": [
      "Training cases: 10500\n",
      "Test cases: 4500\n"
     ]
    }
   ],
   "source": [
    "from sklearn.model_selection import train_test_split\n",
    "\n",
    "# Split data 70%-30% into training set and test set\n",
    "X_train, X_test, y_train, y_test = train_test_split(X, y, test_size=0.30, random_state=0)\n",
    "\n",
    "print ('Training cases: %d\\nTest cases: %d' % (X_train.shape[0], X_test.shape[0]))"
   ]
  },
  {
   "cell_type": "markdown",
   "metadata": {},
   "source": [
    "### 이진 분류 모델 학습 및 평가\n",
    "이제 학습할 변수(**X_train**)를 학습 레이블(**y_train**)에 맞춰 모델을 학습시킬 준비가 되었습니다. 모델 훈련에 사용할 수있는 다양한 알고리즘이 있습니다. 이 예에서는 분류를 위해 잘 알려진 알고리즘인 *로지스틱 회귀*를 사용합니다. 훈련 변수 및 레이블 외에도 aregularization 매개 변수를 설정 해야합니다. 이는 샘플의 모든 편향에 대응하고 모델을 학습 데이터에 과적합하지 않도록 하여 모델이 잘 일반화되도록하는데 사용됩니다.\n",
    "\n",
    "> **참고** : 기계 학습 알고리즘의 파라미터는 일반적으로 ashyperparameters라고합니다 (데이터사이언티스트에게 파라미터는 데이터 자체의 값입니다. 하이퍼 파라미터는 데이터에서 외부적으로 정의됩니다!)"
   ]
  },
  {
   "cell_type": "code",
   "execution_count": 5,
   "metadata": {
    "tags": []
   },
   "outputs": [
    {
     "name": "stdout",
     "output_type": "stream",
     "text": [
      "LogisticRegression(C=100.0, solver='liblinear')\n"
     ]
    }
   ],
   "source": [
    "# Train the model\n",
    "from sklearn.linear_model import LogisticRegression\n",
    "\n",
    "# Set regularization rate\n",
    "reg = 0.01\n",
    "\n",
    "# train a logistic regression model on the training set\n",
    "model = LogisticRegression(C=1/reg, solver=\"liblinear\").fit(X_train, y_train)\n",
    "print (model)"
   ]
  },
  {
   "cell_type": "markdown",
   "metadata": {},
   "source": [
    "이제 훈련 데이터를 사용하여 모델을 훈련 시켰으므로 남겨 놓은 테스트 데이터를 사용하여 얼마나 잘 예측하는지 평가할 수 있습니다. **scikit-learn**은 이 작업을 수행하는 데 도움이 될 수 있습니다. 먼저 모델을 사용하여 테스트 세트의 레이블을 예측하고 예측된 레이블을 실제 레이블과 비교해 보겠습니다."
   ]
  },
  {
   "cell_type": "code",
   "execution_count": 6,
   "metadata": {
    "tags": []
   },
   "outputs": [
    {
     "name": "stdout",
     "output_type": "stream",
     "text": [
      "Predicted labels:  [0 0 0 ... 0 1 0]\n",
      "Actual labels:     [0 0 1 ... 1 1 1]\n"
     ]
    }
   ],
   "source": [
    "predictions = model.predict(X_test)\n",
    "print('Predicted labels: ', predictions)\n",
    "print('Actual labels:    ' ,y_test)"
   ]
  },
  {
   "cell_type": "markdown",
   "metadata": {},
   "source": [
    "레이블 배열이 너무 길어서 노트북 출력에 표시 할 수 없으므로 몇 가지 값만 비교할 수 있습니다. 예측 및 실제 라벨을 모두 출력하더라도 모델을 평가하는 합리적인 방법으로 만들기에는 라벨이 너무 많습니다. 다행히 **scikit-learn**에는 몇 가지 트릭이 더 있으며 모델을 평가하는 데 사용할 수있는 몇 가지 메트릭을 제공합니다.\n",
    "\n",
    "가장 분명한 것은 예측의 *정확도*를 확인하는 것입니다. 간단히 말해서 모델이 올바르게 예측 한 레이블의 비율은 얼마일까요?"
   ]
  },
  {
   "cell_type": "code",
   "execution_count": 7,
   "metadata": {
    "tags": []
   },
   "outputs": [
    {
     "name": "stdout",
     "output_type": "stream",
     "text": [
      "Accuracy:  0.7893333333333333\n"
     ]
    }
   ],
   "source": [
    "from sklearn.metrics import accuracy_score\n",
    "\n",
    "print('Accuracy: ', accuracy_score(y_test, predictions))"
   ]
  },
  {
   "cell_type": "markdown",
   "metadata": {},
   "source": [
    "정확도는 10 진수 값으로 반환됩니다. 값이 1.0이면 모델이 예측의 100 %를 올바르게 얻었음을 의미합니다. 0.0의 정확도는 쓸모 없습니다!\n",
    "\n",
    "정확성은 평가할 수있는 합리적인 지표처럼 보이지만 분류 정확성에서 명확한 결론이라고 도출하는데에는 다른 지표도 필요 합니다. 얼마나 많은 케이스가 올바르게 예측되었는지 측정한 것임을 기억하십시오. 인구의 3%만이 당뇨병이라고 가정합니다. 항상 0을 예측하는 분류기를 만들 수 있으며 97 % 정확하지만 당뇨병 환자를 식별하는데 크게 도움이되지는 않습니다!\n",
    "\n",
    "다행히도 모델의 성능에 대해 좀 더 자세히 보여주는 다른 측정 항목이 있습니다. Scikit-Learn에는 원래 정확도 보다 더 많은 통찰력을 제공하는 분류 보고서(classification report)를 만드는 기능이 포함되어 있습니다."
   ]
  },
  {
   "cell_type": "code",
   "execution_count": 8,
   "metadata": {
    "tags": []
   },
   "outputs": [
    {
     "name": "stdout",
     "output_type": "stream",
     "text": [
      "              precision    recall  f1-score   support\n",
      "\n",
      "           0       0.81      0.88      0.85      2986\n",
      "           1       0.72      0.60      0.66      1514\n",
      "\n",
      "    accuracy                           0.79      4500\n",
      "   macro avg       0.77      0.74      0.75      4500\n",
      "weighted avg       0.78      0.79      0.78      4500\n",
      "\n"
     ]
    }
   ],
   "source": [
    "from sklearn. metrics import classification_report\n",
    "\n",
    "print(classification_report(y_test, predictions))"
   ]
  },
  {
   "cell_type": "markdown",
   "metadata": {},
   "source": [
    "분류 보고서에는 각 클래스 (0과 1)에 대한 다음 메트릭이 포함됩니다.\n",
    "\n",
    "> 헤더 행이 값과 일치하지 않을 수 있습니다.\n",
    "\n",
    "* *정밀도(Precision)* :이 클래스에 대한 모델의 예측 중 올바른 비율\n",
    "* *재현율(Recall)* : 테스트 데이터 세트에 있는 이 클래스의 모든 인스턴스 중에서 모델이 식별한 비율\n",
    "* *F1-Score* : 정밀도와 재현율을 모두 고려하는 평균 측정 항목\n",
    "* *Support* : 테스트 데이터 세트에 각 클래스의 데이터 개수\n",
    "\n",
    "분류 보고서에는 각 클래스의 케이스 수에서 불균형을 허용하는 가중 평균을 포함하여 이러한 메트릭에 대한 평균도 포함됩니다.\n",
    "\n",
    "이것은 *이진* 분류 문제이기 때문에 ***1*** 클래스는 *양성*으로 간주되며 정밀도와 재현율이 특히 흥미롭습니다. 실제로 다음 질문에 답합니다.\n",
    "\n",
    "- 모델이 예측 한 모든 환자 중 실제로 당뇨병이있는 환자는 몇 명입니까?\n",
    "- 실제로 당뇨병 환자 중 몇 명을 모델이 식별 했습니까?\n",
    "\n",
    "scikit-learn에서 **precision_score** 및 **recall_score** 측정 항목을 사용하여 자체적으로 이러한 값을 검색 할 수 있습니다.(기본적으로 이진 분류 모델을 가정)"
   ]
  },
  {
   "cell_type": "code",
   "execution_count": 9,
   "metadata": {
    "tags": []
   },
   "outputs": [
    {
     "name": "stdout",
     "output_type": "stream",
     "text": [
      "Overall Precision: 0.7242472266244057\n",
      "Overall Recall: 0.6036988110964333\n"
     ]
    }
   ],
   "source": [
    "from sklearn.metrics import precision_score, recall_score\n",
    "\n",
    "print(\"Overall Precision:\",precision_score(y_test, predictions))\n",
    "print(\"Overall Recall:\",recall_score(y_test, predictions))"
   ]
  },
  {
   "cell_type": "markdown",
   "metadata": {},
   "source": [
    "정밀도 및 재현율 메트릭은 다음과 같은 네 가지 가능한 예측 결과에서 파생됩니다.\n",
    "* *True Positives* : 예측 라벨과 실제 라벨이 모두 1입니다.\n",
    "* *False Positives* : 예측 라벨은 1이지만 실제 라벨은 0입니다.\n",
    "* *False Negatives* : 예측 라벨은 0이지만 실제 라벨은 1입니다.\n",
    "* *True Negatives* : 예측 라벨과 실제 라벨이 모두 0입니다.\n",
    "\n",
    "이러한 측정 항목은 일반적으로 테스트 세트에 대해 표로 작성되며 다음과 같은 형식을 취하는 혼동 행렬로 함께 표시됩니다.\n",
    "\n",
    "<table style=\"border: 1px solid black;\">\n",
    "    <tr style=\"border: 1px solid black;\">\n",
    "        <td style=\"border: 1px solid black;color: black;\" bgcolor=\"lightgray\">TN</td><td style=\"border: 1px solid black;color: black;\" bgcolor=\"white\">FP</td>\n",
    "    </tr>\n",
    "    <tr style=\"border: 1px solid black;\">\n",
    "        <td style=\"border: 1px solid black;color: black;\" bgcolor=\"white\">FN</td><td style=\"border: 1px solid black;color: black;\" bgcolor=\"lightgray\">TP</td>\n",
    "    </tr>\n",
    "</table>\n",
    "\n",
    "올바른 (*true*) 예측은 왼쪽 상단에서 오른쪽 하단으로 대각선을 형성합니다. 모델이 좋은 경우이 수치는 *false* 예측보다 훨씬 높아야합니다.\n",
    "\n",
    "Python에서는 **sklearn.metrics.confusion_matrix** 함수를 사용하여 학습된 분류(classifier)에 대해 다음 값을 찾을 수 있습니다."
   ]
  },
  {
   "cell_type": "code",
   "execution_count": 10,
   "metadata": {
    "tags": []
   },
   "outputs": [
    {
     "name": "stdout",
     "output_type": "stream",
     "text": [
      "[[2638  348]\n",
      " [ 600  914]]\n"
     ]
    }
   ],
   "source": [
    "from sklearn.metrics import confusion_matrix\n",
    "\n",
    "# Print the confusion matrix\n",
    "cm = confusion_matrix(y_test, predictions)\n",
    "print (cm)"
   ]
  },
  {
   "cell_type": "markdown",
   "metadata": {},
   "source": [
    "지금까지 모델의 예측을 1 또는 0 클래스 레이블로 간주했습니다. 사실, 상황은 그것보다 조금 더 복잡합니다. 로지스틱 회귀와 같은 통계적 기계 학습 알고리즘은 *확률* 을 기반으로합니다. 따라서 이진 분류기에 의해 실제로 예측되는 것은 레이블이 참일 확률 (**P(y)**)과 \n",
    "레이블이 거짓 일 확률 (1-**P(y)**)입니다. 임계 값 0.5는 예측 된 레이블이 1 (*P(y) > 0.5*)인지 0 (*P(y) <= 0.5*)인지 결정하는 데 사용됩니다. **predict_proba** 방법을 사용하여 각 케이스의 확률 쌍을 볼 수 있습니다."
   ]
  },
  {
   "cell_type": "code",
   "execution_count": 11,
   "metadata": {
    "tags": []
   },
   "outputs": [
    {
     "name": "stdout",
     "output_type": "stream",
     "text": [
      "[[0.81647809 0.18352191]\n",
      " [0.96294954 0.03705046]\n",
      " [0.80856407 0.19143593]\n",
      " ...\n",
      " [0.60693775 0.39306225]\n",
      " [0.10684087 0.89315913]\n",
      " [0.6387308  0.3612692 ]]\n"
     ]
    }
   ],
   "source": [
    "y_scores = model.predict_proba(X_test)\n",
    "print(y_scores)"
   ]
  },
  {
   "cell_type": "markdown",
   "metadata": {},
   "source": [
    "예측 점수를 1 또는 0으로 결정하는 것은 예측 확률이 비교되는 임계 값에 따라 다릅니다. 임계 값을 변경하면 예측에 영향을 미칩니다. 따라서 혼동 행렬의 메트릭을 변경합니다. 분류자를 평가하는 일반적인 방법은 가능한 임계 값 범위에 대해 *true positive 비율* (재현율)과 *false positive 비율* 을 조사하는 것입니다. 이러한 비율은 가능한 모든 임계 값에 대해 플롯되어 다음과 같이 *ROC (received operator character)차트* 로 알려진 차트를 형성합니다."
   ]
  },
  {
   "cell_type": "code",
   "execution_count": 12,
   "metadata": {},
   "outputs": [
    {
     "data": {
      "image/png": "[encoded data removed]",
      "text/plain": [
       "<Figure size 432x432 with 1 Axes>"
      ]
     },
     "metadata": {
      "needs_background": "light"
     },
     "output_type": "display_data"
    }
   ],
   "source": [
    "from sklearn.metrics import roc_curve\n",
    "from sklearn.metrics import confusion_matrix\n",
    "import matplotlib\n",
    "import matplotlib.pyplot as plt\n",
    "%matplotlib inline\n",
    "\n",
    "# calculate ROC curve\n",
    "fpr, tpr, thresholds = roc_curve(y_test, y_scores[:,1])\n",
    "\n",
    "# plot ROC curve\n",
    "fig = plt.figure(figsize=(6, 6))\n",
    "# Plot the diagonal 50% line\n",
    "plt.plot([0, 1], [0, 1], 'k--')\n",
    "# Plot the FPR and TPR achieved by our model\n",
    "plt.plot(fpr, tpr)\n",
    "plt.xlabel('False Positive Rate')\n",
    "plt.ylabel('True Positive Rate')\n",
    "plt.title('ROC Curve')\n",
    "plt.show()"
   ]
  },
  {
   "cell_type": "markdown",
   "metadata": {},
   "source": [
    "ROC 차트는 0과 1 사이의 다른 임계 값에 대한 참 및 거짓 긍정 비율의 곡선을 보여줍니다. 완벽한 분류자는 왼쪽을 곧장 올라가서 위쪽을 가로지르는 곡선을 가지고 있을 것이다. 차트의 대각선은 50/50 무작위 예측으로 올바르게 예측할 확률을 나타냅니다. 따라서 곡선이 그보다 더 높기를 원합니다(또는 모델이 단순히 추측하는 것보다 낫지 않습니다!).\n",
    "\n",
    "곡선 아래 영역 (AUC)은 모델의 전체 성능을 정량화하는 0에서 1 사이의 값입니다. 이 값이 1에 가까울수록 모델이 더 좋습니다. 다시 한 번 scikit-Learn에는이 메트릭을 계산하는 함수가 포함되어 있습니다."
   ]
  },
  {
   "cell_type": "code",
   "execution_count": 13,
   "metadata": {
    "tags": []
   },
   "outputs": [
    {
     "name": "stdout",
     "output_type": "stream",
     "text": [
      "AUC: 0.8568480296867549\n"
     ]
    }
   ],
   "source": [
    "from sklearn.metrics import roc_auc_score\n",
    "\n",
    "auc = roc_auc_score(y_test,y_scores[:,1])\n",
    "print('AUC: ' + str(auc))"
   ]
  },
  {
   "cell_type": "markdown",
   "metadata": {},
   "source": [
    "### 파이프라인에서 전처리 수행\n",
    "\n",
    "이 경우 ROC 곡선과 AUC는 랜덤 추측보다 모형이 더 잘 수행된다는 것을 나타내며, 이는 데이터에 대한 전처리를 거의 수행하지 않았다는 점을 고려할 때 나쁘지 않습니다.\n",
    "\n",
    "실제로는 알고리즘이 모델에 더 쉽게 맞출 수 있도록 데이터에 대한 몇 가지 전처리를 수행하는 것이 일반적입니다. 데이터를 모델링할 수 있도록 하기 위해 수행할 수 있는 광범위한 전처리 방법들은 다음과 같은 몇 가지 일반적인 기법으로 제한됩니다.\n",
    "\n",
    "- 동일한 스케일에 있도록 수치형 변수를 스케일링합니다. 따라서 값이 큰 형상이 예측에 불균형적으로 영향을 미치는 계수를 생성하지 않습니다.\n",
    "- 범주형 변수를 인코딩합니다. 예를 들어 *one-hot encoding* 을 사용하여 가능한 각 범주 값에 대해 개별 이진(참/거짓) 특징을 생성할 수 있습니다.\n",
    "\n",
    "이러한 전처리 전환을 적용하기 위해 *파이프라인*이라는 Scikit-Learn 기능을 사용할 것입니다. 이를 통해 알고리즘으로 끝나는 일련의 전처리 단계를 정의할 수 있습니다. 그런 다음 전체 파이프라인을 데이터에 적합시켜 모델이 모든 전처리 단계와 회귀 알고리즘을 캡슐화할 수 있습니다. 모델을 사용하여 새 데이터의 값을 예측하려면 동일한 변환을 적용해야 하기 때문에 이 방법이 유용합니다(교육 데이터에 사용되는 동일한 통계 분포 및 범주 인코딩을 기반으로 함).\n",
    "\n",
    ">**참고**: *파이프라인*이라는 용어는 기계 학습에서 광범위하게 사용되며, 매우 다른 의미를 갖는 경우가 많습니다! 이러한 맥락에서 Seagate는 Scikit-Learn에서 파이프라인 개체를 참조하는 데 사용되지만 다른 곳에서 다른 의미를 갖는 경우도 있습니다."
   ]
  },
  {
   "cell_type": "code",
   "execution_count": 14,
   "metadata": {
    "tags": []
   },
   "outputs": [
    {
     "name": "stdout",
     "output_type": "stream",
     "text": [
      "Pipeline(steps=[('preprocessor',\n",
      "                 ColumnTransformer(transformers=[('num',\n",
      "                                                  Pipeline(steps=[('scaler',\n",
      "                                                                   StandardScaler())]),\n",
      "                                                  [0, 1, 2, 3, 4, 5, 6]),\n",
      "                                                 ('cat',\n",
      "                                                  Pipeline(steps=[('onehot',\n",
      "                                                                   OneHotEncoder(handle_unknown='ignore'))]),\n",
      "                                                  [7])])),\n",
      "                ('logregressor',\n",
      "                 LogisticRegression(C=100.0, solver='liblinear'))])\n"
     ]
    }
   ],
   "source": [
    "# Train the model\n",
    "from sklearn.compose import ColumnTransformer\n",
    "from sklearn.pipeline import Pipeline\n",
    "from sklearn.preprocessing import StandardScaler, OneHotEncoder\n",
    "from sklearn.linear_model import LogisticRegression\n",
    "import numpy as np\n",
    "\n",
    "# Define preprocessing for numeric columns (normalize them so they're on the same scale)\n",
    "numeric_features = [0,1,2,3,4,5,6]\n",
    "numeric_transformer = Pipeline(steps=[\n",
    "    ('scaler', StandardScaler())])\n",
    "\n",
    "# Define preprocessing for categorical features (encode the Age column)\n",
    "categorical_features = [7]\n",
    "categorical_transformer = Pipeline(steps=[\n",
    "    ('onehot', OneHotEncoder(handle_unknown='ignore'))])\n",
    "\n",
    "# Combine preprocessing steps\n",
    "preprocessor = ColumnTransformer(\n",
    "    transformers=[\n",
    "        ('num', numeric_transformer, numeric_features),\n",
    "        ('cat', categorical_transformer, categorical_features)])\n",
    "\n",
    "# Create preprocessing and training pipeline\n",
    "pipeline = Pipeline(steps=[('preprocessor', preprocessor),\n",
    "                           ('logregressor', LogisticRegression(C=1/reg, solver=\"liblinear\"))])\n",
    "\n",
    "\n",
    "# fit the pipeline to train a logistic regression model on the training set\n",
    "model = pipeline.fit(X_train, (y_train))\n",
    "print (model)"
   ]
  },
  {
   "cell_type": "markdown",
   "metadata": {},
   "source": [
    "파이프라인은 전처리 단계와 모델 교육을 캡슐화합니다.\n",
    "\n",
    "이 파이프라인에서 학습한 모델을 사용하여 테스트 세트의 레이블을 예측하고 성능 메트릭을 이전에 생성한 기본 모델과 비교해 보겠습니다."
   ]
  },
  {
   "cell_type": "code",
   "execution_count": 15,
   "metadata": {
    "tags": []
   },
   "outputs": [
    {
     "name": "stdout",
     "output_type": "stream",
     "text": [
      "Confusion Matrix:\n",
      " [[2667  319]\n",
      " [ 406 1108]] \n",
      "\n",
      "Accuracy: 0.8388888888888889\n",
      "Overall Precision: 0.7764540995094604\n",
      "Overall Recall: 0.7318361955085865\n",
      "AUC: 0.9202444963329531\n"
     ]
    },
    {
     "data": {
      "image/png": "[encoded data removed]",
      "text/plain": [
       "<Figure size 432x432 with 1 Axes>"
      ]
     },
     "metadata": {
      "needs_background": "light"
     },
     "output_type": "display_data"
    }
   ],
   "source": [
    "# Get predictions from test data\n",
    "predictions = model.predict(X_test)\n",
    "y_scores = model.predict_proba(X_test)\n",
    "\n",
    "# Get evaluation metrics\n",
    "cm = confusion_matrix(y_test, predictions)\n",
    "print ('Confusion Matrix:\\n',cm, '\\n')\n",
    "print('Accuracy:', accuracy_score(y_test, predictions))\n",
    "print(\"Overall Precision:\",precision_score(y_test, predictions))\n",
    "print(\"Overall Recall:\",recall_score(y_test, predictions))\n",
    "auc = roc_auc_score(y_test,y_scores[:,1])\n",
    "print('AUC: ' + str(auc))\n",
    "\n",
    "# calculate ROC curve\n",
    "fpr, tpr, thresholds = roc_curve(y_test, y_scores[:,1])\n",
    "\n",
    "# plot ROC curve\n",
    "fig = plt.figure(figsize=(6, 6))\n",
    "# Plot the diagonal 50% line\n",
    "plt.plot([0, 1], [0, 1], 'k--')\n",
    "# Plot the FPR and TPR achieved by our model\n",
    "plt.plot(fpr, tpr)\n",
    "plt.xlabel('False Positive Rate')\n",
    "plt.ylabel('True Positive Rate')\n",
    "plt.title('ROC Curve')\n",
    "plt.show()\n",
    "\n"
   ]
  },
  {
   "cell_type": "markdown",
   "metadata": {},
   "source": [
    "결과가 조금 더 좋아 보이므로 데이터를 전처리하는 것이 분명히 차이를 만들어 냈습니다.\n",
    "\n",
    "### 다른 알고리즘을 사용해 보십시오.\n",
    "\n",
    "이제 다른 알고리즘을 시도해 보겠습니다. 이전에는 *선형* 알고리즘인 로지스틱 회귀 알고리즘을 사용했습니다. 시도할 수 있는 분류 알고리즘은 다음과 같습니다.\n",
    "\n",
    "- **Support Vector Machine algorithms**: 클래스를 구분하는 *hyperplane*을 정의하는 알고리즘\n",
    "- **Tree-based algorithms**: 예측에 도달하기 위한 의사결정 트리를 구축하는 알고리즘\n",
    "- **Ensemble algorithms** : 복수의 기본 알고리즘의 산출물을 조합하여 일반화 해가며 개선하는 알고리즘\n",
    "\n",
    "이번에는 이전과 동일한 전처리 단계를 사용하겠지만, 복수의 랜덤 의사결정 트리의 결과들을 결합하는 *Random Forest* 알고리즘을 사용하여 모델을 학습하겠습니다(자세한 내용은 [Sikit-Learn 설명서](https://scikit-learn.org/stable/modules/ensemble.html#forests-of-randomized-trees) 참조)."
   ]
  },
  {
   "cell_type": "code",
   "execution_count": 16,
   "metadata": {
    "tags": []
   },
   "outputs": [
    {
     "name": "stdout",
     "output_type": "stream",
     "text": [
      "Pipeline(steps=[('preprocessor',\n",
      "                 ColumnTransformer(transformers=[('num',\n",
      "                                                  Pipeline(steps=[('scaler',\n",
      "                                                                   StandardScaler())]),\n",
      "                                                  [0, 1, 2, 3, 4, 5, 6]),\n",
      "                                                 ('cat',\n",
      "                                                  Pipeline(steps=[('onehot',\n",
      "                                                                   OneHotEncoder(handle_unknown='ignore'))]),\n",
      "                                                  [7])])),\n",
      "                ('logregressor', RandomForestClassifier())])\n"
     ]
    }
   ],
   "source": [
    "from sklearn.ensemble import RandomForestClassifier\n",
    "\n",
    "# Create preprocessing and training pipeline\n",
    "pipeline = Pipeline(steps=[('preprocessor', preprocessor),\n",
    "                           ('logregressor', RandomForestClassifier(n_estimators=100))])\n",
    "\n",
    "# fit the pipeline to train a random forest model on the training set\n",
    "model = pipeline.fit(X_train, (y_train))\n",
    "print (model)"
   ]
  },
  {
   "cell_type": "markdown",
   "metadata": {},
   "source": [
    "새로운 모델의 성능 지표를 살펴보겠습니다."
   ]
  },
  {
   "cell_type": "code",
   "execution_count": 17,
   "metadata": {
    "tags": []
   },
   "outputs": [
    {
     "name": "stdout",
     "output_type": "stream",
     "text": [
      "Confusion Matrix:\n",
      " [[2866  120]\n",
      " [ 180 1334]] \n",
      "\n",
      "Accuracy: 0.9333333333333333\n",
      "Overall Precision: 0.9174690508940853\n",
      "Overall Recall: 0.8811096433289299\n",
      "\n",
      "AUC: 0.9825226884421444\n"
     ]
    },
    {
     "data": {
      "image/png": "[encoded data removed]",
      "text/plain": [
       "<Figure size 432x432 with 1 Axes>"
      ]
     },
     "metadata": {
      "needs_background": "light"
     },
     "output_type": "display_data"
    }
   ],
   "source": [
    "predictions = model.predict(X_test)\n",
    "y_scores = model.predict_proba(X_test)\n",
    "cm = confusion_matrix(y_test, predictions)\n",
    "print ('Confusion Matrix:\\n',cm, '\\n')\n",
    "print('Accuracy:', accuracy_score(y_test, predictions))\n",
    "print(\"Overall Precision:\",precision_score(y_test, predictions))\n",
    "print(\"Overall Recall:\",recall_score(y_test, predictions))\n",
    "auc = roc_auc_score(y_test,y_scores[:,1])\n",
    "print('\\nAUC: ' + str(auc))\n",
    "\n",
    "# calculate ROC curve\n",
    "fpr, tpr, thresholds = roc_curve(y_test, y_scores[:,1])\n",
    "\n",
    "# plot ROC curve\n",
    "fig = plt.figure(figsize=(6, 6))\n",
    "# Plot the diagonal 50% line\n",
    "plt.plot([0, 1], [0, 1], 'k--')\n",
    "# Plot the FPR and TPR achieved by our model\n",
    "plt.plot(fpr, tpr)\n",
    "plt.xlabel('False Positive Rate')\n",
    "plt.ylabel('True Positive Rate')\n",
    "plt.title('ROC Curve')\n",
    "plt.show()"
   ]
  },
  {
   "cell_type": "markdown",
   "metadata": {},
   "source": [
    "더 좋아 보이네요!\n",
    "\n",
    "## 추론을 위한 모델 사용\n",
    "이제 상당히 유용한 학습 모델을 확보했으므로 나중에 새 데이터에 대한 라벨을 예측하는데 사용할 수 있습니다."
   ]
  },
  {
   "cell_type": "code",
   "execution_count": 18,
   "metadata": {},
   "outputs": [
    {
     "data": {
      "text/plain": [
       "['./models/diabetes_model.pkl']"
      ]
     },
     "execution_count": 18,
     "metadata": {},
     "output_type": "execute_result"
    }
   ],
   "source": [
    "import joblib\n",
    "\n",
    "# Save the model as a pickle file\n",
    "filename = './models/diabetes_model.pkl'\n",
    "joblib.dump(model, filename)"
   ]
  },
  {
   "cell_type": "markdown",
   "metadata": {},
   "source": [
    "라벨을 모르는 새로운 데이터가 있는 경우 모델을 로드하여 라벨에 대한 값을 예측할 수 있습니다."
   ]
  },
  {
   "cell_type": "code",
   "execution_count": 19,
   "metadata": {
    "tags": []
   },
   "outputs": [
    {
     "name": "stdout",
     "output_type": "stream",
     "text": [
      "New sample: [2.0, 180.0, 74.0, 24.0, 21.0, 23.9091702, 1.488172308, 22.0]\n",
      "Predicted class is 1\n"
     ]
    }
   ],
   "source": [
    "# Load the model from the file\n",
    "model = joblib.load(filename)\n",
    "\n",
    "# predict on a new sample\n",
    "# The model accepts an array of feature arrays (so you can predict the classes of multiple patients in a single call)\n",
    "# We'll create an array with a single array of features, representing one patient\n",
    "X_new = np.array([[2,180,74,24,21,23.9091702,1.488172308,22]])\n",
    "print ('New sample: {}'.format(list(X_new[0])))\n",
    "\n",
    "# Get a prediction\n",
    "pred = model.predict(X_new)\n",
    "\n",
    "# The model returns an array of predictions - one for each set of features submitted\n",
    "# In our case, we only submitted one patient, so our prediction is the first one in the resulting array.\n",
    "print('Predicted class is {}'.format(pred[0]))"
   ]
  },
  {
   "cell_type": "markdown",
   "metadata": {},
   "source": [
    "## 다중 클래스 분류\n",
    "\n",
    "이진 분류 기법은 데이터 관찰이 \"참\" 또는 \"거짓\"과 같은 두 가지 클래스 또는 범주 중 하나에 속할 때 잘 작동합니다. 데이터를 세 개 이상의 클래스로 분류할 수 있는 경우 다중 클래스 분류 알고리즘을 사용해야 합니다.\n",
    "\n",
    "다중 클래스 분류는 여러 개의 이진 분류자의 조합으로 생각할 수 있습니다. 문제에 접근하는 방법에는 두 가지가 있습니다.\n",
    "\n",
    "- **One vs Rest (OVR)*** 각 클래스 값에 대해 분류기가 생성되며, 예측이 특정 클래스인 경우 긍정적인 결과를, 예측이 다른 클래스인 경우 부정적인 예측이 생성됩니다. 네 가지 형상 클래스(*제곱*, *원*, *삼각형*, *육각형*)를 사용할 수 있는 분류 문제를 해결하려면 다음을 예측하는 네 개의 classifier(분류자)가 필요합니다.\n",
    "    - *square* or not\n",
    "    - *circle* or not\n",
    "    - *triangle* or not\n",
    "    - *hexagon* or not\n",
    "    \n",
    "- **One vs One(OVO)*** 각 클래스 쌍에 대한 분류기가 생성됩니다. 네 가지 모양 클래스에서 발생하는 분류 문제에는 다음과 같은 이진 분류자가 필요합니다.\n",
    "    - *square* or *circle*\n",
    "    - *square* or *triangle*\n",
    "    - *square* or *hexagon*\n",
    "    - *circle* or *triangle*\n",
    "    - *circle* or *hexagon*\n",
    "    - *triangle* or *hexagon*\n",
    "    \n",
    "두 접근 방식 모두에서 분류자를 결합하는 전체 모델은 개별 이진 분류기에서 생성된 확률을 사용하여 예측할 클래스를 결정하는 예측 벡터를 생성합니다.\n",
    "\n",
    "다행히 scikit-learn을 포함한 대부분의 기계 학습 프레임 워크에서 다중 클래스 분류 모델을 구현하는 것은 이진 분류보다 훨씬 복잡하지 않습니다. 대부분의 경우 이진 분류에 사용되는 추정기는 OVR 알고리즘 인 OVO를 추상화하여 다중 클래스 분류를 암시적으로 지원합니다. 알고리즘을 사용하거나 둘 중 하나를 선택할 수 있습니다.\n",
    "\n",
    "> **추가 정보**: Scikit-Learn에서 다중 클래스 분류에 대한 estimator 지원에 대한 자세한 내용은 [Scikit-Learn 설명서](https://scikit-learn.org/stable/modules/multiclass.html)를 참조하십시오.\n",
    "\n",
    "여러 클래스의 관찰을 포함하는 데이터 세트를 조사하여 시작하겠습니다. 우리는 서로 다른 세 종의 펭귄에 대한 관찰 데이터 세트를 사용할 것입니다.\n",
    "\n",
    "> **인용**: 이 연습에 사용된 펭귄 데이터 세트\n",
    "[Dr. Kristen\n",
    "Gorman](https://www.uaf.edu/cfos/people/faculty/detail/kristen-gorman.php)\n",
    "and the [Palmer Station, Antarctica LTER](https://pal.lternet.edu/), a\n",
    "member of the [Long Term Ecological Research\n",
    "Network](https://lternet.edu/)."
   ]
  },
  {
   "cell_type": "code",
   "execution_count": 20,
   "metadata": {},
   "outputs": [
    {
     "data": {
      "text/html": [
       "<div>\n",
       "<style scoped>\n",
       "    .dataframe tbody tr th:only-of-type {\n",
       "        vertical-align: middle;\n",
       "    }\n",
       "\n",
       "    .dataframe tbody tr th {\n",
       "        vertical-align: top;\n",
       "    }\n",
       "\n",
       "    .dataframe thead th {\n",
       "        text-align: right;\n",
       "    }\n",
       "</style>\n",
       "<table border=\"1\" class=\"dataframe\">\n",
       "  <thead>\n",
       "    <tr style=\"text-align: right;\">\n",
       "      <th></th>\n",
       "      <th>CulmenLength</th>\n",
       "      <th>CulmenDepth</th>\n",
       "      <th>FlipperLength</th>\n",
       "      <th>BodyMass</th>\n",
       "      <th>Species</th>\n",
       "    </tr>\n",
       "  </thead>\n",
       "  <tbody>\n",
       "    <tr>\n",
       "      <th>290</th>\n",
       "      <td>45.9</td>\n",
       "      <td>17.1</td>\n",
       "      <td>190.0</td>\n",
       "      <td>3575.0</td>\n",
       "      <td>2</td>\n",
       "    </tr>\n",
       "    <tr>\n",
       "      <th>47</th>\n",
       "      <td>37.5</td>\n",
       "      <td>18.9</td>\n",
       "      <td>179.0</td>\n",
       "      <td>2975.0</td>\n",
       "      <td>0</td>\n",
       "    </tr>\n",
       "    <tr>\n",
       "      <th>297</th>\n",
       "      <td>48.5</td>\n",
       "      <td>17.5</td>\n",
       "      <td>191.0</td>\n",
       "      <td>3400.0</td>\n",
       "      <td>2</td>\n",
       "    </tr>\n",
       "    <tr>\n",
       "      <th>4</th>\n",
       "      <td>36.7</td>\n",
       "      <td>19.3</td>\n",
       "      <td>193.0</td>\n",
       "      <td>3450.0</td>\n",
       "      <td>0</td>\n",
       "    </tr>\n",
       "    <tr>\n",
       "      <th>149</th>\n",
       "      <td>37.8</td>\n",
       "      <td>18.1</td>\n",
       "      <td>193.0</td>\n",
       "      <td>3750.0</td>\n",
       "      <td>0</td>\n",
       "    </tr>\n",
       "    <tr>\n",
       "      <th>81</th>\n",
       "      <td>42.9</td>\n",
       "      <td>17.6</td>\n",
       "      <td>196.0</td>\n",
       "      <td>4700.0</td>\n",
       "      <td>0</td>\n",
       "    </tr>\n",
       "    <tr>\n",
       "      <th>271</th>\n",
       "      <td>NaN</td>\n",
       "      <td>NaN</td>\n",
       "      <td>NaN</td>\n",
       "      <td>NaN</td>\n",
       "      <td>1</td>\n",
       "    </tr>\n",
       "    <tr>\n",
       "      <th>202</th>\n",
       "      <td>46.6</td>\n",
       "      <td>14.2</td>\n",
       "      <td>210.0</td>\n",
       "      <td>4850.0</td>\n",
       "      <td>1</td>\n",
       "    </tr>\n",
       "    <tr>\n",
       "      <th>104</th>\n",
       "      <td>37.9</td>\n",
       "      <td>18.6</td>\n",
       "      <td>193.0</td>\n",
       "      <td>2925.0</td>\n",
       "      <td>0</td>\n",
       "    </tr>\n",
       "    <tr>\n",
       "      <th>57</th>\n",
       "      <td>40.6</td>\n",
       "      <td>18.8</td>\n",
       "      <td>193.0</td>\n",
       "      <td>3800.0</td>\n",
       "      <td>0</td>\n",
       "    </tr>\n",
       "  </tbody>\n",
       "</table>\n",
       "</div>"
      ],
      "text/plain": [
       "     CulmenLength  CulmenDepth  FlipperLength  BodyMass  Species\n",
       "290          45.9         17.1          190.0    3575.0        2\n",
       "47           37.5         18.9          179.0    2975.0        0\n",
       "297          48.5         17.5          191.0    3400.0        2\n",
       "4            36.7         19.3          193.0    3450.0        0\n",
       "149          37.8         18.1          193.0    3750.0        0\n",
       "81           42.9         17.6          196.0    4700.0        0\n",
       "271           NaN          NaN            NaN       NaN        1\n",
       "202          46.6         14.2          210.0    4850.0        1\n",
       "104          37.9         18.6          193.0    2925.0        0\n",
       "57           40.6         18.8          193.0    3800.0        0"
      ]
     },
     "execution_count": 20,
     "metadata": {},
     "output_type": "execute_result"
    }
   ],
   "source": [
    "import pandas as pd\n",
    "\n",
    "# load the training dataset\n",
    "penguins = pd.read_csv('data/penguins.csv')\n",
    "\n",
    "# Display a random sample of 10 observations\n",
    "sample = penguins.sample(10)\n",
    "sample"
   ]
  },
  {
   "cell_type": "markdown",
   "metadata": {},
   "source": [
    "데이터 세트에는 다음 열로 구성 되어있습니다/\n",
    "* **CulmenLength**: 펭귄의 부리 길이.\n",
    "* **Culmen Depth**: 펭귄의 부리 깊이(mm).\n",
    "* **FlipperLength**: 펭귄 지느러미의 길이(mm).\n",
    "* **BodyMass**: 펭귄의 체질량(g 단위).\n",
    "* **Species**: 펭귄의 종을 나타내는 정수 값.\n",
    "\n",
    "* *Species* 열은 예측하기 위해 모델을 교육하려는 레이블입니다. 데이터 세트에는 가능한 세 가지 종(0, 1, 2)이 포함됩니다. 실제 종 이름은 아래 코드로 확인할 수 있습니다."
   ]
  },
  {
   "cell_type": "code",
   "execution_count": 21,
   "metadata": {
    "tags": []
   },
   "outputs": [
    {
     "name": "stdout",
     "output_type": "stream",
     "text": [
      "['CulmenLength' 'CulmenDepth' 'FlipperLength' 'BodyMass' 'Species'] SpeciesName\n",
      "[ 44.5 14.7 214.0 4850.0 1 ] Gentoo\n",
      "[ 40.8 18.4 195.0 3900.0 0 ] Adelie\n",
      "[ 49.2 18.2 195.0 4400.0 2 ] Chinstrap\n",
      "[ 41.1 17.6 182.0 3200.0 0 ] Adelie\n",
      "[ 45.2 13.8 215.0 4750.0 1 ] Gentoo\n",
      "[ 37.0 16.9 185.0 3000.0 0 ] Adelie\n",
      "[ 36.3 19.5 190.0 3800.0 0 ] Adelie\n",
      "[ 38.5 17.9 190.0 3325.0 0 ] Adelie\n",
      "[ 41.5 18.5 201.0 4000.0 0 ] Adelie\n",
      "[ 51.5 18.7 187.0 3250.0 2 ] Chinstrap\n"
     ]
    }
   ],
   "source": [
    "penguin_classes = ['Adelie', 'Gentoo', 'Chinstrap']\n",
    "print(sample.columns[0:5].values, 'SpeciesName')\n",
    "for index, row in penguins.sample(10).iterrows():\n",
    "    print('[',row[0], row[1], row[2], row[3], int(row[4]),']',penguin_classes[int(row[4])])"
   ]
  },
  {
   "cell_type": "markdown",
   "metadata": {},
   "source": [
    "이제 데이터의 특징과 레이블이 무엇을 나타내는 지 알았으니 데이터 세트를 살펴 보겠습니다. 먼저 누락된 (*null*) 값이 있는지 살펴 보겠습니다."
   ]
  },
  {
   "cell_type": "code",
   "execution_count": 22,
   "metadata": {
    "tags": []
   },
   "outputs": [
    {
     "data": {
      "text/plain": [
       "CulmenLength     2\n",
       "CulmenDepth      2\n",
       "FlipperLength    2\n",
       "BodyMass         2\n",
       "Species          0\n",
       "dtype: int64"
      ]
     },
     "execution_count": 22,
     "metadata": {},
     "output_type": "execute_result"
    }
   ],
   "source": [
    "# Count the number of null values for each column\n",
    "penguins.isnull().sum()"
   ]
  },
  {
   "cell_type": "markdown",
   "metadata": {},
   "source": [
    "누락된 변수 값은 일부 있지만 레이블은 누락 되지 않았습니다. Null이 포함된 행을 살펴보겠습니다."
   ]
  },
  {
   "cell_type": "code",
   "execution_count": 23,
   "metadata": {
    "tags": []
   },
   "outputs": [
    {
     "data": {
      "text/html": [
       "<div>\n",
       "<style scoped>\n",
       "    .dataframe tbody tr th:only-of-type {\n",
       "        vertical-align: middle;\n",
       "    }\n",
       "\n",
       "    .dataframe tbody tr th {\n",
       "        vertical-align: top;\n",
       "    }\n",
       "\n",
       "    .dataframe thead th {\n",
       "        text-align: right;\n",
       "    }\n",
       "</style>\n",
       "<table border=\"1\" class=\"dataframe\">\n",
       "  <thead>\n",
       "    <tr style=\"text-align: right;\">\n",
       "      <th></th>\n",
       "      <th>CulmenLength</th>\n",
       "      <th>CulmenDepth</th>\n",
       "      <th>FlipperLength</th>\n",
       "      <th>BodyMass</th>\n",
       "      <th>Species</th>\n",
       "    </tr>\n",
       "  </thead>\n",
       "  <tbody>\n",
       "    <tr>\n",
       "      <th>3</th>\n",
       "      <td>NaN</td>\n",
       "      <td>NaN</td>\n",
       "      <td>NaN</td>\n",
       "      <td>NaN</td>\n",
       "      <td>0</td>\n",
       "    </tr>\n",
       "    <tr>\n",
       "      <th>271</th>\n",
       "      <td>NaN</td>\n",
       "      <td>NaN</td>\n",
       "      <td>NaN</td>\n",
       "      <td>NaN</td>\n",
       "      <td>1</td>\n",
       "    </tr>\n",
       "  </tbody>\n",
       "</table>\n",
       "</div>"
      ],
      "text/plain": [
       "     CulmenLength  CulmenDepth  FlipperLength  BodyMass  Species\n",
       "3             NaN          NaN            NaN       NaN        0\n",
       "271           NaN          NaN            NaN       NaN        1"
      ]
     },
     "execution_count": 23,
     "metadata": {},
     "output_type": "execute_result"
    }
   ],
   "source": [
    "# Show rows containing nulls\n",
    "penguins[penguins.isnull().any(axis=1)]"
   ]
  },
  {
   "cell_type": "markdown",
   "metadata": {},
   "source": [
    "변수 값을 전혀 포함하지 않는 행이 두 개 있으므로 (*NaN*은 \"숫자가 아님\"을 나타냄) 모델 학습에 유용하지 않습니다. 데이터 세트에서 삭제하겠습니다."
   ]
  },
  {
   "cell_type": "code",
   "execution_count": 24,
   "metadata": {},
   "outputs": [
    {
     "data": {
      "text/plain": [
       "CulmenLength     0\n",
       "CulmenDepth      0\n",
       "FlipperLength    0\n",
       "BodyMass         0\n",
       "Species          0\n",
       "dtype: int64"
      ]
     },
     "execution_count": 24,
     "metadata": {},
     "output_type": "execute_result"
    }
   ],
   "source": [
    "# Drop rows containing NaN values\n",
    "penguins=penguins.dropna()\n",
    "#Confirm there are now no nulls\n",
    "penguins.isnull().sum()"
   ]
  },
  {
   "cell_type": "markdown",
   "metadata": {},
   "source": [
    "이제 누락 된 값을 처리 했으므로 상자 그림을 만들어 변수들이 레이블과 어떻게 관련되는지 살펴 보겠습니다."
   ]
  },
  {
   "cell_type": "code",
   "execution_count": 25,
   "metadata": {},
   "outputs": [
    {
     "data": {
      "image/png": "[encoded data removed]",
      "text/plain": [
       "<Figure size 432x432 with 1 Axes>"
      ]
     },
     "metadata": {
      "needs_background": "light"
     },
     "output_type": "display_data"
    },
    {
     "data": {
      "image/png": "[encoded data removed]",
      "text/plain": [
       "<Figure size 432x432 with 1 Axes>"
      ]
     },
     "metadata": {
      "needs_background": "light"
     },
     "output_type": "display_data"
    },
    {
     "data": {
      "image/png": "[encoded data removed]",
      "text/plain": [
       "<Figure size 432x432 with 1 Axes>"
      ]
     },
     "metadata": {
      "needs_background": "light"
     },
     "output_type": "display_data"
    },
    {
     "data": {
      "image/png": "[encoded data removed]",
      "text/plain": [
       "<Figure size 432x432 with 1 Axes>"
      ]
     },
     "metadata": {
      "needs_background": "light"
     },
     "output_type": "display_data"
    }
   ],
   "source": [
    "from matplotlib import pyplot as plt\n",
    "%matplotlib inline\n",
    "\n",
    "penguin_features = ['CulmenLength','CulmenDepth','FlipperLength','BodyMass']\n",
    "penguin_label = 'Species'\n",
    "for col in penguin_features:\n",
    "    penguins.boxplot(column=col, by=penguin_label, figsize=(6,6))\n",
    "    plt.title(col)\n",
    "plt.show()"
   ]
  },
  {
   "cell_type": "markdown",
   "metadata": {},
   "source": [
    "상자 그림에서 종 0과 2 (Amelie 및 Chinstrap)는 부리 깊이, 플리퍼 길이 및 체질량에 대해 유사한 데이터 프로필을 가지고있는 것처럼 보이지만 Chinstrap은 더 긴 부리를 갖는 경향이 있습니다. 1 종 (Gentoo)은 다른 것들과 상당히 분명하게 구별되는 특징을 가지고 있습니다. 좋은 분류 모델을 훈련하는 데 도움이 될 것입니다.\n",
    "\n",
    "### 데이터 준비\n",
    "\n",
    "이진 분류와 마찬가지로 모델을 훈련하기 전에 기능과 레이블을 분리 한 다음 훈련 및 검증을 위해 데이터를 하위 집합으로 분할해야 합니다. 또한 훈련 및 검증 데이터 세트에서 각 레이블 값의 비율을 유지하기 위해 데이터를 분할 할 때 *stratification(층화)* 기술을 적용합니다."
   ]
  },
  {
   "cell_type": "code",
   "execution_count": 26,
   "metadata": {
    "tags": []
   },
   "outputs": [
    {
     "name": "stdout",
     "output_type": "stream",
     "text": [
      "Training Set: 239, Test Set: 103 \n",
      "\n"
     ]
    }
   ],
   "source": [
    "from sklearn.model_selection import train_test_split\n",
    "\n",
    "# Separate features and labels\n",
    "penguins_X, penguins_y = penguins[penguin_features].values, penguins[penguin_label].values\n",
    "\n",
    "# Split data 70%-30% into training set and test set\n",
    "x_penguin_train, x_penguin_test, y_penguin_train, y_penguin_test = train_test_split(penguins_X, penguins_y,\n",
    "                                                                                    test_size=0.30,\n",
    "                                                                                    random_state=0,\n",
    "                                                                                    stratify=penguins_y)\n",
    "\n",
    "print ('Training Set: %d, Test Set: %d \\n' % (x_penguin_train.shape[0], x_penguin_test.shape[0]))"
   ]
  },
  {
   "cell_type": "markdown",
   "metadata": {},
   "source": [
    "### 다중 클래스 분류 훈련 및 평가\n",
    "\n",
    "이제 학습 기능 세트와 해당 학습 레이블이 있으므로 데이터에 다중 클래스 분류 알고리즘을 적용하여 모델을 만들 수 있습니다. 대부분의 scikit-learn 분류 알고리즘은 본질적으로 다중 클래스 분류를 지원합니다. 로지스틱 회귀 알고리즘을 시도해 보겠습니다."
   ]
  },
  {
   "cell_type": "code",
   "execution_count": 27,
   "metadata": {
    "tags": []
   },
   "outputs": [
    {
     "name": "stdout",
     "output_type": "stream",
     "text": [
      "LogisticRegression(C=10.0, max_iter=10000)\n"
     ]
    }
   ],
   "source": [
    "from sklearn.linear_model import LogisticRegression\n",
    "\n",
    "# Set regularization rate\n",
    "reg = 0.1\n",
    "\n",
    "# train a logistic regression model on the training set\n",
    "multi_model = LogisticRegression(C=1/reg, solver='lbfgs', multi_class='auto', max_iter=10000).fit(x_penguin_train, y_penguin_train)\n",
    "print (multi_model)"
   ]
  },
  {
   "cell_type": "markdown",
   "metadata": {},
   "source": [
    "이제 훈련 된 모델을 사용하여 테스트 기능의 레이블을 예측하고 예측 된 레이블을 실제 레이블과 비교할 수 있습니다."
   ]
  },
  {
   "cell_type": "code",
   "execution_count": 28,
   "metadata": {
    "tags": []
   },
   "outputs": [
    {
     "name": "stdout",
     "output_type": "stream",
     "text": [
      "Predicted labels:  [0 1 0 2 2 1 1 1 0 2 2 1 2 1 2]\n",
      "Actual labels   :  [0 1 2 2 2 1 1 1 0 2 2 1 2 1 2]\n"
     ]
    }
   ],
   "source": [
    "penguin_predictions = multi_model.predict(x_penguin_test)\n",
    "print('Predicted labels: ', penguin_predictions[:15])\n",
    "print('Actual labels   : ' ,y_penguin_test[:15])"
   ]
  },
  {
   "cell_type": "markdown",
   "metadata": {},
   "source": [
    "분류 보고서(classification report)를 살펴 보겠습니다."
   ]
  },
  {
   "cell_type": "code",
   "execution_count": 29,
   "metadata": {
    "scrolled": true,
    "tags": []
   },
   "outputs": [
    {
     "name": "stdout",
     "output_type": "stream",
     "text": [
      "              precision    recall  f1-score   support\n",
      "\n",
      "           0       0.96      0.98      0.97        45\n",
      "           1       1.00      1.00      1.00        37\n",
      "           2       0.95      0.90      0.93        21\n",
      "\n",
      "    accuracy                           0.97       103\n",
      "   macro avg       0.97      0.96      0.96       103\n",
      "weighted avg       0.97      0.97      0.97       103\n",
      "\n"
     ]
    }
   ],
   "source": [
    "from sklearn. metrics import classification_report\n",
    "\n",
    "print(classification_report(y_penguin_test, penguin_predictions))"
   ]
  },
  {
   "cell_type": "markdown",
   "metadata": {},
   "source": [
    "이진 분류와 마찬가지로 보고서에는 각 클래스에 대한 *정밀도* 및 *재현율* 메트릭이 포함됩니다. 그러나 이진 분류를 사용하면 *positive* 클래스의 점수에 집중할 수 있습니다. 이 경우에는 여러 클래스가 있으므로 전체 메트릭(매크로 또는 가중 평균)을 검토하여 세 클래스 모두에서 모델이 얼마나 잘 수행되는지 파악해야합니다.\n",
    "\n",
    "scikit-learn 메트릭 점수 클래스를 사용하여 보고서와 별도로 전체 메트릭을 가져올 수 있지만 다중 클래스 결과를 사용하려면 정밀도 및 재현율에 사용할 평균 메트릭을 지정해야합니다."
   ]
  },
  {
   "cell_type": "code",
   "execution_count": 30,
   "metadata": {
    "tags": []
   },
   "outputs": [
    {
     "name": "stdout",
     "output_type": "stream",
     "text": [
      "Overall Accuracy: 0.970873786407767\n",
      "Overall Precision: 0.9688405797101449\n",
      "Overall Recall: 0.9608465608465608\n"
     ]
    }
   ],
   "source": [
    "from sklearn.metrics import accuracy_score, precision_score, recall_score\n",
    "\n",
    "print(\"Overall Accuracy:\",accuracy_score(y_penguin_test, penguin_predictions))\n",
    "print(\"Overall Precision:\",precision_score(y_penguin_test, penguin_predictions, average='macro'))\n",
    "print(\"Overall Recall:\",recall_score(y_penguin_test, penguin_predictions, average='macro'))"
   ]
  },
  {
   "cell_type": "markdown",
   "metadata": {},
   "source": [
    "이제 모델에 대한 혼동 행렬(confusion_matrix)을 살펴 보겠습니다."
   ]
  },
  {
   "cell_type": "code",
   "execution_count": 31,
   "metadata": {
    "tags": []
   },
   "outputs": [
    {
     "name": "stdout",
     "output_type": "stream",
     "text": [
      "[[44  0  1]\n",
      " [ 0 37  0]\n",
      " [ 2  0 19]]\n"
     ]
    }
   ],
   "source": [
    "from sklearn.metrics import confusion_matrix\n",
    "\n",
    "# Print the confusion matrix\n",
    "mcm = confusion_matrix(y_penguin_test, penguin_predictions)\n",
    "print(mcm)"
   ]
  },
  {
   "cell_type": "markdown",
   "metadata": {},
   "source": [
    "혼동 행렬은 각 클래스에 대한 예측 및 실제 레이블 값의 교차점을 보여줍니다. 간단히 말해서 왼쪽 상단에서 오른쪽 하단까지의 대각선 교차는 올바른 예측 수를 나타냅니다.\n",
    "\n",
    "여러 클래스를 처리 할 때 일반적으로 다음과 같이 이것을 히트맵으로 시각화하는 것이 더 직관적입니다."
   ]
  },
  {
   "cell_type": "code",
   "execution_count": 32,
   "metadata": {},
   "outputs": [
    {
     "data": {
      "image/png": "[encoded data removed]",
      "text/plain": [
       "<Figure size 432x288 with 2 Axes>"
      ]
     },
     "metadata": {
      "needs_background": "light"
     },
     "output_type": "display_data"
    }
   ],
   "source": [
    "import numpy as np\n",
    "import matplotlib.pyplot as plt\n",
    "%matplotlib inline\n",
    "\n",
    "plt.imshow(mcm, interpolation=\"nearest\", cmap=plt.cm.Blues)\n",
    "plt.colorbar()\n",
    "tick_marks = np.arange(len(penguin_classes))\n",
    "plt.xticks(tick_marks, penguin_classes, rotation=45)\n",
    "plt.yticks(tick_marks, penguin_classes)\n",
    "plt.xlabel(\"Predicted Species\")\n",
    "plt.ylabel(\"Actual Species\")\n",
    "plt.show()"
   ]
  },
  {
   "cell_type": "markdown",
   "metadata": {},
   "source": [
    "혼동 행렬의 어두운 정사각형은 사례 수가 많다는 것을 나타내며, 예측 레이블과 실제 레이블이 동일한 경우를 보고자 하면 정사각형의 대각선 어두움 정도를 보면 됩니다.\n",
    "\n",
    "다중 클래스 분류 모델의 경우 참 양성 비율과 위양성 비율을 보여주는 단일 ROC 곡선은 불가능합니다. 그러나 OVR (One vs Rest) 비교에서 각 클래스의 One vs Rest을 사용하여 각 클래스에 대한 ROC 차트를 만들 수 있습니다."
   ]
  },
  {
   "cell_type": "code",
   "execution_count": 33,
   "metadata": {
    "scrolled": true
   },
   "outputs": [
    {
     "data": {
      "image/png": "[encoded data removed]",
      "text/plain": [
       "<Figure size 432x288 with 1 Axes>"
      ]
     },
     "metadata": {
      "needs_background": "light"
     },
     "output_type": "display_data"
    }
   ],
   "source": [
    "from sklearn.metrics import roc_curve\n",
    "from sklearn.metrics import roc_auc_score\n",
    "\n",
    "# Get class probability scores\n",
    "penguin_prob = multi_model.predict_proba(x_penguin_test)\n",
    "\n",
    "# Get ROC metrics for each class\n",
    "fpr = {}\n",
    "tpr = {}\n",
    "thresh ={}\n",
    "for i in range(len(penguin_classes)):    \n",
    "    fpr[i], tpr[i], thresh[i] = roc_curve(y_penguin_test, penguin_prob[:,i], pos_label=i)\n",
    "    \n",
    "# Plot the ROC chart\n",
    "plt.plot(fpr[0], tpr[0], linestyle='--',color='orange', label=penguin_classes[0] + ' vs Rest')\n",
    "plt.plot(fpr[1], tpr[1], linestyle='--',color='green', label=penguin_classes[1] + ' vs Rest')\n",
    "plt.plot(fpr[2], tpr[2], linestyle='--',color='blue', label=penguin_classes[2] + ' vs Rest')\n",
    "plt.title('Multiclass ROC curve')\n",
    "plt.xlabel('False Positive Rate')\n",
    "plt.ylabel('True Positive rate')\n",
    "plt.legend(loc='best')\n",
    "plt.show()"
   ]
  },
  {
   "cell_type": "markdown",
   "metadata": {},
   "source": [
    "ROC 성능을 정량화하기 위해 모든 OVR 곡선에서 평균화 된 곡선 점수 아래의 집계 영역을 계산할 수 있습니다."
   ]
  },
  {
   "cell_type": "code",
   "execution_count": 34,
   "metadata": {},
   "outputs": [
    {
     "name": "stdout",
     "output_type": "stream",
     "text": [
      "Average AUC: 0.9981999902100828\n"
     ]
    }
   ],
   "source": [
    "auc = roc_auc_score(y_penguin_test,penguin_prob, multi_class='ovr')\n",
    "print('Average AUC:', auc)"
   ]
  },
  {
   "cell_type": "markdown",
   "metadata": {},
   "source": [
    "### 파이프라인의 데이터 전처리\n",
    "\n",
    "이진 분류와 마찬가지로 파이프라인을 사용하여 데이터를 모델 학습 전에 데이터에 전처리 단계를 적용할 수 있습니다. 훈련 전에 변환 단계에서 수치형 특성을 스케일링하여 펭귄 예측를 개선 할 수 있는지 살펴 보겠습니다. 이번에는 다른 알고리즘 (서포트 벡터 머신)을 시도하겠습니다."
   ]
  },
  {
   "cell_type": "code",
   "execution_count": 35,
   "metadata": {
    "tags": []
   },
   "outputs": [
    {
     "name": "stdout",
     "output_type": "stream",
     "text": [
      "Pipeline(steps=[('preprocessor',\n",
      "                 ColumnTransformer(transformers=[('preprocess',\n",
      "                                                  Pipeline(steps=[('scaler',\n",
      "                                                                   StandardScaler())]),\n",
      "                                                  [0, 1, 2, 3])])),\n",
      "                ('regressor', SVC(probability=True))])\n"
     ]
    }
   ],
   "source": [
    "from sklearn.preprocessing import StandardScaler\n",
    "from sklearn.compose import ColumnTransformer\n",
    "from sklearn.pipeline import Pipeline\n",
    "from sklearn.svm import SVC\n",
    "\n",
    "# Define preprocessing for numeric columns (scale them)\n",
    "feature_columns = [0,1,2,3]\n",
    "feature_transformer = Pipeline(steps=[\n",
    "    ('scaler', StandardScaler())\n",
    "    ])\n",
    "\n",
    "# Create preprocessing steps\n",
    "preprocessor = ColumnTransformer(\n",
    "    transformers=[\n",
    "        ('preprocess', feature_transformer, feature_columns)])\n",
    "\n",
    "# Create training pipeline\n",
    "pipeline = Pipeline(steps=[('preprocessor', preprocessor),\n",
    "                           ('regressor', SVC(probability=True))])\n",
    "\n",
    "\n",
    "# fit the pipeline to train a linear regression model on the training set\n",
    "multi_model = pipeline.fit(x_penguin_train, y_penguin_train)\n",
    "print (multi_model)"
   ]
  },
  {
   "cell_type": "markdown",
   "metadata": {},
   "source": [
    "이제 새로운 모델을 평가할 수 있습니다."
   ]
  },
  {
   "cell_type": "code",
   "execution_count": 36,
   "metadata": {
    "tags": []
   },
   "outputs": [
    {
     "name": "stdout",
     "output_type": "stream",
     "text": [
      "Overall Accuracy: 0.9805825242718447\n",
      "Overall Precision: 0.9767195767195768\n",
      "Overall Recall: 0.9767195767195768\n",
      "Average AUC: 0.9990361381446328\n"
     ]
    },
    {
     "data": {
      "image/png": "[encoded data removed]",
      "text/plain": [
       "<Figure size 432x288 with 2 Axes>"
      ]
     },
     "metadata": {
      "needs_background": "light"
     },
     "output_type": "display_data"
    }
   ],
   "source": [
    "# Get predictions from test data\n",
    "penguin_predictions = multi_model.predict(x_penguin_test)\n",
    "penguin_prob = multi_model.predict_proba(x_penguin_test)\n",
    "\n",
    "# Overall metrics\n",
    "print(\"Overall Accuracy:\",accuracy_score(y_penguin_test, penguin_predictions))\n",
    "print(\"Overall Precision:\",precision_score(y_penguin_test, penguin_predictions, average='macro'))\n",
    "print(\"Overall Recall:\",recall_score(y_penguin_test, penguin_predictions, average='macro'))\n",
    "print('Average AUC:', roc_auc_score(y_penguin_test,penguin_prob, multi_class='ovr'))\n",
    "\n",
    "# Confusion matrix\n",
    "plt.imshow(mcm, interpolation=\"nearest\", cmap=plt.cm.Blues)\n",
    "plt.colorbar()\n",
    "tick_marks = np.arange(len(penguin_classes))\n",
    "plt.xticks(tick_marks, penguin_classes, rotation=45)\n",
    "plt.yticks(tick_marks, penguin_classes)\n",
    "plt.xlabel(\"Predicted Species\")\n",
    "plt.ylabel(\"Actual Species\")\n",
    "plt.show()"
   ]
  },
  {
   "cell_type": "markdown",
   "metadata": {},
   "source": [
    "### 학습한 모델에 새 데이터 관측치를 이용\n",
    "\n",
    "이제 훈련 된 모델을 저장하여 나중에 다시 사용할 수 있도록 하겠습니다."
   ]
  },
  {
   "cell_type": "code",
   "execution_count": 37,
   "metadata": {},
   "outputs": [
    {
     "data": {
      "text/plain": [
       "['./models/penguin_model.pkl']"
      ]
     },
     "execution_count": 37,
     "metadata": {},
     "output_type": "execute_result"
    }
   ],
   "source": [
    "import joblib\n",
    "\n",
    "# Save the model as a pickle file\n",
    "filename = './models/penguin_model.pkl'\n",
    "joblib.dump(multi_model, filename)"
   ]
  },
  {
   "cell_type": "markdown",
   "metadata": {},
   "source": [
    "이제 훈련 된 모델이 생겼습니다. 새로운 펭귄 관측 데이터 클래스를 예측하는데 사용하겠습니다."
   ]
  },
  {
   "cell_type": "code",
   "execution_count": 38,
   "metadata": {
    "tags": []
   },
   "outputs": [
    {
     "name": "stdout",
     "output_type": "stream",
     "text": [
      "New sample: [  50.4   15.3  224.  5550. ]\n",
      "Predicted class is Gentoo\n"
     ]
    }
   ],
   "source": [
    "# Load the model from the file\n",
    "multi_model = joblib.load(filename)\n",
    "\n",
    "# The model accepts an array of feature arrays (so you can predict the classes of multiple penguin observations in a single call)\n",
    "# We'll create an array with a single array of features, representing one penguin\n",
    "x_new = np.array([[50.4,15.3,224,5550]])\n",
    "print ('New sample: {}'.format(x_new[0]))\n",
    "\n",
    "# The model returns an array of predictions - one for each set of features submitted\n",
    "# In our case, we only submitted one penguin, so our prediction is the first one in the resulting array.\n",
    "penguin_pred = multi_model.predict(x_new)[0]\n",
    "print('Predicted class is', penguin_classes[penguin_pred])"
   ]
  },
  {
   "cell_type": "markdown",
   "metadata": {},
   "source": [
    "또한 펭귄 관측치 배치 만큼을 모델에 제출하고 예측을 받아올 수 있습니다."
   ]
  },
  {
   "cell_type": "code",
   "execution_count": 39,
   "metadata": {
    "tags": []
   },
   "outputs": [
    {
     "name": "stdout",
     "output_type": "stream",
     "text": [
      "New samples:\n",
      "[[  49.5   18.4  195.  3600. ]\n",
      " [  38.2   20.1  190.  3900. ]]\n",
      "2 (Chinstrap)\n",
      "0 (Adelie)\n"
     ]
    }
   ],
   "source": [
    "# This time our input is an array of two feature arrays\n",
    "x_new = np.array([[49.5,18.4,195, 3600],\n",
    "         [38.2,20.1,190,3900]])\n",
    "print ('New samples:\\n{}'.format(x_new))\n",
    "\n",
    "# Call the web service, passing the input data\n",
    "predictions = multi_model.predict(x_new)\n",
    "\n",
    "# Get the predicted classes.\n",
    "for prediction in predictions:\n",
    "    print(prediction, '(' + penguin_classes[prediction] +')')"
   ]
  },
  {
   "cell_type": "markdown",
   "metadata": {},
   "source": [
    "## 더 읽을 거리\n",
    "\n",
    "분류는 기계 학습의 가장 일반적인 형태 중 하나이며,이 노트북에서 논의한 기본 원칙을 따르면 scikit-learn으로 분류 모델을 학습하고 평가할 수 있습니다. 분류 알고리즘을 좀 더 깊이 조사하는데 시간을 할애 할 가치가 있으며, 좋은 출발점은 [Scikit-Learn 설명서](https://scikit-learn.org/stable/user_guide.html) 입니다.\n",
    "\n",
    "## 과제 : 와인 분류\n",
    "\n",
    "분류 모델을 교육하고 싶으십니까? [/challenge/03 - Wine Classification Challenge.ipynb](/Challenge/03%20-%20Wine%20Classification%20Challenge.ipynb) 노트북에서 도전을 시도하여 와인을 포도 품종으로 분류할 수 있는지 확인해 보십시오!\n",
    "\n",
    "> **참고**: 이 선택적 과제를 완료하는 시간은 이 연습의 예상 시간에 포함되지 않습니다. 원하는 만큼 시간을 적게 또는 많이 할애할 수 있습니다!"
   ]
  },
  {
   "cell_type": "code",
   "execution_count": null,
   "metadata": {},
   "outputs": [],
   "source": []
  }
 ],
 "metadata": {
  "kernelspec": {
   "display_name": "Python 3",
   "language": "python",
   "name": "python3"
  },
  "language_info": {
   "codemirror_mode": {
    "name": "ipython",
    "version": 3
   },
   "file_extension": ".py",
   "mimetype": "text/x-python",
   "name": "python",
   "nbconvert_exporter": "python",
   "pygments_lexer": "ipython3",
   "version": "3.8.5"
  }
 },
 "nbformat": 4,
 "nbformat_minor": 4
}
