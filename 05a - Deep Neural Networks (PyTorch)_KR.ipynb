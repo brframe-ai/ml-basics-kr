{
 "cells": [
  {
   "cell_type": "markdown",
   "metadata": {},
   "source": [
    "# PyTorch를 이용한 딥러닝\n",
    "\n",
    "기존의 머신러닝은 통계 방법을 사용하여 특징(feature)과 라벨(label) 사이의 관계를 결정하는 데에 의존하면서 예측 모델을 만드는 데 매우 효과적일 수 있습니다. 하지만 엄청난 데이터 가용성의 증가는 그것을 처리하는 데 필요한 컴퓨팅 기술의 발전과 결합되어 인간의 뇌가 인공 신경망이라고 불리는 구조에서 정보를 처리하는 방식을 모방하여 새로운 머신러닝 기술의 출현으로 이어졌습니다.\n",
    "\n",
    "PyTorch는 깊은 신경망(deep neural networks, DNN)을 포함한 머신러닝 모델을 만들기 위한 프레임워크입니다. 이 예에서는 PyTorch를 사용하여 부리(culmen)의 길이와 깊이, 날개(FlipperLength) 및 체질량(BodyMass)을 기준으로 펭귄의 종으로 분류하는 간단한 신경망을 생성합니다.\n",
    "\n",
    "> **인용**: 이 연습에 사용된 펭귄 데이터셋은 [Dr. Kristen Gorman](https://www.uaf.edu/cfos/people/faculty/detail/kristen-gorman.php) 과 [Long Term Ecological Research Network](https://lternet.edu/)의 멤버인 [Palmer Station, Antarctica LTER](https://pal.lternet.edu/)이 수집하여 사용할 수 있게 만든 데이터의 서브셋이다.\n",
    "\n",
    "## 데이터셋 살펴보기\n",
    "\n",
    "PyTorch를 사용하기 전에 모델을 만들기 위해 Palmer Islands 펭귄 데이터셋으로부터 필요한 데이터를 불러오겠습니다. 이 데이터셋에는 3가지 종류의 펭귄이 관찰되어 있습니다.\n",
    "\n",
    "> **참조**: 실제로는 딥러닝 모델 없이도 기존의 머신러닝 기술을 사용하여 펭귄 분류 문제를 쉽게 해결할 수 있습니다. 하지만 이 노트북에서 신경 네트워크의 원리를 설명하는 데이터셋은 유용하고 이해하기 쉽습니다."
   ]
  },
  {
   "cell_type": "code",
   "execution_count": 1,
   "metadata": {},
   "outputs": [
    {
     "data": {
      "text/html": [
       "<div>\n",
       "<style scoped>\n",
       "    .dataframe tbody tr th:only-of-type {\n",
       "        vertical-align: middle;\n",
       "    }\n",
       "\n",
       "    .dataframe tbody tr th {\n",
       "        vertical-align: top;\n",
       "    }\n",
       "\n",
       "    .dataframe thead th {\n",
       "        text-align: right;\n",
       "    }\n",
       "</style>\n",
       "<table border=\"1\" class=\"dataframe\">\n",
       "  <thead>\n",
       "    <tr style=\"text-align: right;\">\n",
       "      <th></th>\n",
       "      <th>CulmenLength</th>\n",
       "      <th>CulmenDepth</th>\n",
       "      <th>FlipperLength</th>\n",
       "      <th>BodyMass</th>\n",
       "      <th>Species</th>\n",
       "    </tr>\n",
       "  </thead>\n",
       "  <tbody>\n",
       "    <tr>\n",
       "      <th>193</th>\n",
       "      <td>49.6</td>\n",
       "      <td>16.0</td>\n",
       "      <td>22.5</td>\n",
       "      <td>57.0</td>\n",
       "      <td>1</td>\n",
       "    </tr>\n",
       "    <tr>\n",
       "      <th>265</th>\n",
       "      <td>51.5</td>\n",
       "      <td>16.3</td>\n",
       "      <td>23.0</td>\n",
       "      <td>55.0</td>\n",
       "      <td>1</td>\n",
       "    </tr>\n",
       "    <tr>\n",
       "      <th>258</th>\n",
       "      <td>41.7</td>\n",
       "      <td>14.7</td>\n",
       "      <td>21.0</td>\n",
       "      <td>47.0</td>\n",
       "      <td>1</td>\n",
       "    </tr>\n",
       "    <tr>\n",
       "      <th>261</th>\n",
       "      <td>48.1</td>\n",
       "      <td>15.1</td>\n",
       "      <td>20.9</td>\n",
       "      <td>55.0</td>\n",
       "      <td>1</td>\n",
       "    </tr>\n",
       "    <tr>\n",
       "      <th>235</th>\n",
       "      <td>50.0</td>\n",
       "      <td>15.9</td>\n",
       "      <td>22.4</td>\n",
       "      <td>53.5</td>\n",
       "      <td>1</td>\n",
       "    </tr>\n",
       "    <tr>\n",
       "      <th>288</th>\n",
       "      <td>47.0</td>\n",
       "      <td>17.3</td>\n",
       "      <td>18.5</td>\n",
       "      <td>37.0</td>\n",
       "      <td>2</td>\n",
       "    </tr>\n",
       "    <tr>\n",
       "      <th>127</th>\n",
       "      <td>41.5</td>\n",
       "      <td>18.3</td>\n",
       "      <td>19.5</td>\n",
       "      <td>43.0</td>\n",
       "      <td>0</td>\n",
       "    </tr>\n",
       "    <tr>\n",
       "      <th>204</th>\n",
       "      <td>45.1</td>\n",
       "      <td>14.4</td>\n",
       "      <td>21.0</td>\n",
       "      <td>44.0</td>\n",
       "      <td>1</td>\n",
       "    </tr>\n",
       "    <tr>\n",
       "      <th>309</th>\n",
       "      <td>51.0</td>\n",
       "      <td>18.8</td>\n",
       "      <td>20.3</td>\n",
       "      <td>41.0</td>\n",
       "      <td>2</td>\n",
       "    </tr>\n",
       "    <tr>\n",
       "      <th>210</th>\n",
       "      <td>43.2</td>\n",
       "      <td>14.5</td>\n",
       "      <td>20.8</td>\n",
       "      <td>44.5</td>\n",
       "      <td>1</td>\n",
       "    </tr>\n",
       "  </tbody>\n",
       "</table>\n",
       "</div>"
      ],
      "text/plain": [
       "     CulmenLength  CulmenDepth  FlipperLength  BodyMass  Species\n",
       "193          49.6         16.0           22.5      57.0        1\n",
       "265          51.5         16.3           23.0      55.0        1\n",
       "258          41.7         14.7           21.0      47.0        1\n",
       "261          48.1         15.1           20.9      55.0        1\n",
       "235          50.0         15.9           22.4      53.5        1\n",
       "288          47.0         17.3           18.5      37.0        2\n",
       "127          41.5         18.3           19.5      43.0        0\n",
       "204          45.1         14.4           21.0      44.0        1\n",
       "309          51.0         18.8           20.3      41.0        2\n",
       "210          43.2         14.5           20.8      44.5        1"
      ]
     },
     "execution_count": 1,
     "metadata": {},
     "output_type": "execute_result"
    }
   ],
   "source": [
    "import pandas as pd\n",
    "\n",
    "# load the training dataset (excluding rows with null values)\n",
    "penguins = pd.read_csv('data/penguins.csv').dropna()\n",
    "\n",
    "# Deep Learning models work best when features are on similar scales\n",
    "# In a real solution, we'd implement some custom normalization for each feature, but to keep things simple\n",
    "# we'll just rescale the FlipperLength and BodyMass so they're on a similar scale to the bill measurements\n",
    "penguins['FlipperLength'] = penguins['FlipperLength']/10\n",
    "penguins['BodyMass'] = penguins['BodyMass']/100\n",
    "\n",
    "# The dataset is too small to be useful for deep learning\n",
    "# So we'll oversample it to increase its size\n",
    "for i in range(1,3):\n",
    "    penguins = penguins.append(penguins)\n",
    "\n",
    "# Display a random sample of 10 observations\n",
    "sample = penguins.sample(10)\n",
    "sample"
   ]
  },
  {
   "cell_type": "markdown",
   "metadata": {},
   "source": [
    "**Species** 열은 모델이 예측할 레이블입니다. 각 라벨 값은 0, 1 또는 2로 인코딩된 펭귄 종의 클래스를 나타냅니다. 다음 코드는 이러한 클래스 라벨에 해당하는 실제 종을 보여줍니다."
   ]
  },
  {
   "cell_type": "code",
   "execution_count": 2,
   "metadata": {
    "tags": []
   },
   "outputs": [
    {
     "name": "stdout",
     "output_type": "stream",
     "text": [
      "['CulmenLength' 'CulmenDepth' 'FlipperLength' 'BodyMass' 'Species'] SpeciesName\n",
      "[ 42.5 17.3 18.7 33.5 2 ] Chinstrap\n",
      "[ 37.5 18.5 19.9 44.75 0 ] Adelie\n",
      "[ 46.0 18.9 19.5 41.5 2 ] Chinstrap\n",
      "[ 51.3 14.2 21.8 53.0 1 ] Gentoo\n",
      "[ 43.3 14.0 20.8 45.75 1 ] Gentoo\n",
      "[ 36.7 18.8 18.7 38.0 0 ] Adelie\n",
      "[ 44.1 19.7 19.6 44.0 0 ] Adelie\n",
      "[ 37.3 16.8 19.2 30.0 0 ] Adelie\n",
      "[ 37.8 18.3 17.4 34.0 0 ] Adelie\n",
      "[ 47.3 15.3 22.2 52.5 1 ] Gentoo\n"
     ]
    }
   ],
   "source": [
    "penguin_classes = ['Adelie', 'Gentoo', 'Chinstrap']\n",
    "print(sample.columns[0:5].values, 'SpeciesName')\n",
    "for index, row in penguins.sample(10).iterrows():\n",
    "    print('[',row[0], row[1], row[2],row[3], int(row[4]), ']',penguin_classes[int(row[-1])])"
   ]
  },
  {
   "cell_type": "markdown",
   "metadata": {},
   "source": [
    "흔히 지도학습 문제에서 볼 수 있듯이, 데이터셋을 일련의 레코드로 분할하여 모델을 학습하고, 학습된 모델을 검증할 수 있는 작은 데이터셋으로 분할합니다."
   ]
  },
  {
   "cell_type": "code",
   "execution_count": 3,
   "metadata": {
    "tags": []
   },
   "outputs": [
    {
     "name": "stdout",
     "output_type": "stream",
     "text": [
      "Training Set: 957, Test Set: 411 \n",
      "\n",
      "Sample of features and labels:\n",
      "[51.1 16.5 22.5 52.5] 1 (Gentoo)\n",
      "[50.7 19.7 20.3 40.5] 2 (Chinstrap)\n",
      "[49.5 16.2 22.9 58. ] 1 (Gentoo)\n",
      "[39.3 20.6 19.  36.5] 0 (Adelie)\n",
      "[42.5 20.7 19.7 45. ] 0 (Adelie)\n",
      "[50.  15.3 22.  55.5] 1 (Gentoo)\n",
      "[50.2  18.7  19.8  37.75] 2 (Chinstrap)\n",
      "[50.7 19.7 20.3 40.5] 2 (Chinstrap)\n",
      "[49.1  14.5  21.2  46.25] 1 (Gentoo)\n",
      "[43.2 16.6 18.7 29. ] 2 (Chinstrap)\n",
      "[38.8  17.6  19.1  32.75] 0 (Adelie)\n",
      "[37.8 17.1 18.6 33. ] 0 (Adelie)\n",
      "[45.8 14.2 21.9 47. ] 1 (Gentoo)\n",
      "[43.8 13.9 20.8 43. ] 1 (Gentoo)\n",
      "[36.  17.1 18.7 37. ] 0 (Adelie)\n",
      "[43.3 13.4 20.9 44. ] 1 (Gentoo)\n",
      "[36.  18.5 18.6 31. ] 0 (Adelie)\n",
      "[41.1  19.   18.2  34.25] 0 (Adelie)\n",
      "[33.1 16.1 17.8 29. ] 0 (Adelie)\n",
      "[40.9 13.7 21.4 46.5] 1 (Gentoo)\n",
      "[45.2 17.8 19.8 39.5] 2 (Chinstrap)\n",
      "[48.4 14.6 21.3 58.5] 1 (Gentoo)\n",
      "[43.6 13.9 21.7 49. ] 1 (Gentoo)\n",
      "[38.5  17.9  19.   33.25] 0 (Adelie)\n"
     ]
    }
   ],
   "source": [
    "from sklearn.model_selection import train_test_split\n",
    "\n",
    "features = ['CulmenLength','CulmenDepth','FlipperLength','BodyMass']\n",
    "label = 'Species'\n",
    "   \n",
    "# Split data 70%-30% into training set and test set\n",
    "x_train, x_test, y_train, y_test = train_test_split(penguins[features].values,\n",
    "                                                    penguins[label].values,\n",
    "                                                    test_size=0.30,\n",
    "                                                    random_state=0)\n",
    "\n",
    "print ('Training Set: %d, Test Set: %d \\n' % (len(x_train), len(x_test)))\n",
    "print(\"Sample of features and labels:\")\n",
    "\n",
    "# Take a look at the first 25 training features and corresponding labels\n",
    "for n in range(0,24):\n",
    "    print(x_train[n], y_train[n], '(' + penguin_classes[y_train[n]] + ')')"
   ]
  },
  {
   "cell_type": "markdown",
   "metadata": {},
   "source": [
    "*특징(features)*은 각 펭귄 관찰에 대한 측정치이며 *라벨(label)* 은 관찰이 나타내는 펭귄의 종(Adelie, Gentoo 또는 Chinstrap)을 나타내는 숫자 값입니다.\n",
    "\n",
    "## PyTorch 라이브러리 설치 및 임포트\n",
    "\n",
    "PyTorch를 사용하여 펭귄 분류 모델을 만들 계획이기 때문에 PyTorch 라이브러리를 설치하고 임포트 위해 아래 2개의 셀을 실행해야 합니다. 특정 버전의 PyTorch 설치는 운영 체제와 *cuda*를 통한 고성능 처리에 사용할 수 있는 그래픽 처리 장치(GPU)가 컴퓨터에 있는지 여부에 따라 달라집니다. 자세한 지침은 https://pytorch.org/get-started/locally/ 에서 확인할 수 있습니다."
   ]
  },
  {
   "cell_type": "code",
   "execution_count": 4,
   "metadata": {},
   "outputs": [],
   "source": [
    "# !pip install torch==1.7.1+cpu torchvision==0.8.2+cpu torchaudio==0.7.2 -f https://download.pytorch.org/whl/torch_stable.html"
   ]
  },
  {
   "cell_type": "code",
   "execution_count": 5,
   "metadata": {
    "tags": []
   },
   "outputs": [
    {
     "name": "stdout",
     "output_type": "stream",
     "text": [
      "Libraries imported - ready to use PyTorch 1.8.1+cpu\n"
     ]
    }
   ],
   "source": [
    "import torch\n",
    "import torch.nn as nn\n",
    "import torch.utils.data as td\n",
    "\n",
    "# Set random seed for reproducability\n",
    "torch.manual_seed(0)\n",
    "\n",
    "print(\"Libraries imported - ready to use PyTorch\", torch.__version__)"
   ]
  },
  {
   "cell_type": "markdown",
   "metadata": {},
   "source": [
    "## PyTorch에서 데이터 준비하기\n",
    "\n",
    "PyTorch는 *데이터 로더(data loaders)* 를 사용하여 학습 및 검증 데이터를 일괄 불러옵니다. 데이터를 이미 Numpy 배열(array)에 로드했지만, 데이터를 PyTorch *tensor* 개체로 변환하는 PyTorch 데이터셋으로 래핑하고 해당 데이터셋에서 배치를 읽을 로더를 생성해야 합니다."
   ]
  },
  {
   "cell_type": "code",
   "execution_count": 6,
   "metadata": {
    "tags": []
   },
   "outputs": [
    {
     "name": "stdout",
     "output_type": "stream",
     "text": [
      "Ready to load data\n"
     ]
    }
   ],
   "source": [
    "# Create a dataset and loader for the training data and labels\n",
    "train_x = torch.Tensor(x_train).float()\n",
    "train_y = torch.Tensor(y_train).long()\n",
    "train_ds = td.TensorDataset(train_x,train_y)\n",
    "train_loader = td.DataLoader(train_ds, batch_size=20, shuffle=False, num_workers=1)\n",
    "\n",
    "# Create a dataset and loader for the test data and labels\n",
    "test_x = torch.Tensor(x_test).float()\n",
    "test_y = torch.Tensor(y_test).long()\n",
    "test_ds = td.TensorDataset(test_x,test_y)\n",
    "test_loader = td.DataLoader(test_ds, batch_size=20, shuffle=False, num_workers=1)\n",
    "\n",
    "print('Ready to load data')"
   ]
  },
  {
   "cell_type": "markdown",
   "metadata": {},
   "source": [
    "## 신경망 정의하기\n",
    "\n",
    "이제 우리는 우리의 신경망을 정의할 준비가 되었다. 이 경우에는 3개의 완전 연결층(fully-connected layers)으로 구성된 네트워크를 구축하겠습니다:\n",
    "* 각 형상에 대해 입력 값(이 경우 4개의 펭귄 측정값)을 수신하고 *ReLU*  활성화 함수를 적용하는 입력 층입니다.\n",
    "* 10개의 입력을 받고, *ReLU* 활성화 함수를 적용하는 은닉 층입니다.\n",
    "* *Softmax* 활성화 함수를 사용하여 각 펭귄 종에 대한 출력을 생성하는 출력 층입니다(이 출력 층은 3가지 펭귄 종 각각에 대하여 분류 확률을 나타냅니다). Softmax 함수는 전체 합계가 1인 확률 값을 가진 벡터를 생성합니다."
   ]
  },
  {
   "cell_type": "code",
   "execution_count": 7,
   "metadata": {
    "tags": []
   },
   "outputs": [
    {
     "name": "stdout",
     "output_type": "stream",
     "text": [
      "PenguinNet(\n",
      "  (fc1): Linear(in_features=4, out_features=10, bias=True)\n",
      "  (fc2): Linear(in_features=10, out_features=10, bias=True)\n",
      "  (fc3): Linear(in_features=10, out_features=3, bias=True)\n",
      ")\n"
     ]
    }
   ],
   "source": [
    "import torch\n",
    "import torch.nn as nn\n",
    "\n",
    "# Define the neural network\n",
    "class PenguinNet(nn.Module):\n",
    "    def __init__(self):\n",
    "        super(PenguinNet, self).__init__()\n",
    "        self.fc1 = nn.Linear(4, 10)\n",
    "        self.fc2 = nn.Linear(10, 10)\n",
    "        self.fc3 = nn.Linear(10, 3)\n",
    "\n",
    "    def forward(self, x):\n",
    "        x = torch.relu(self.fc1(x))\n",
    "        x = torch.relu(self.fc2(x))\n",
    "        x = torch.softmax(self.fc3(x),dim=1)\n",
    "        return x\n",
    "\n",
    "# Create a model instance from the network\n",
    "model = PenguinNet()\n",
    "print(model)"
   ]
  },
  {
   "cell_type": "markdown",
   "metadata": {},
   "source": [
    "## 모델 학습하기\n",
    "\n",
    "모델을 교육하기 위해서는 반복적으로 네트워크에서 학습을 통해 계산된 값을 공급하고, 손실 함수를 사용하여 손실을 계산하고, Optimizer를 사용하여 가중치와 바이어스 값 조정하고, 보류한 테스트 데이터셋을 사용하여 모델을 검증해야 합니다.\n",
    "\n",
    "이를 위해 모델 학습 및 최적화하는 함수와 모델을 테스트하는 함수를 만들 것입니다. 그 다음 각 에포크의 손실 및 정확도 통계를 기록하면서 이러한 함수를 50개 이상의 에포크동안 반복적으로 호출합니다."
   ]
  },
  {
   "cell_type": "code",
   "execution_count": 8,
   "metadata": {
    "tags": []
   },
   "outputs": [
    {
     "name": "stdout",
     "output_type": "stream",
     "text": [
      "Epoch: 1\n",
      "Training set: Average loss: 1.091498\n",
      "Validation set: Average loss: 1.025534, Accuracy: 246/411 (60%)\n",
      "\n",
      "Epoch: 2\n",
      "Training set: Average loss: 1.000949\n",
      "Validation set: Average loss: 0.982450, Accuracy: 314/411 (76%)\n",
      "\n",
      "Epoch: 3\n",
      "Training set: Average loss: 0.953905\n",
      "Validation set: Average loss: 0.937909, Accuracy: 321/411 (78%)\n",
      "\n",
      "Epoch: 4\n",
      "Training set: Average loss: 0.906742\n",
      "Validation set: Average loss: 0.893166, Accuracy: 322/411 (78%)\n",
      "\n",
      "Epoch: 5\n",
      "Training set: Average loss: 0.860262\n",
      "Validation set: Average loss: 0.853027, Accuracy: 322/411 (78%)\n",
      "\n",
      "Epoch: 6\n",
      "Training set: Average loss: 0.818910\n",
      "Validation set: Average loss: 0.816758, Accuracy: 323/411 (79%)\n",
      "\n",
      "Epoch: 7\n",
      "Training set: Average loss: 0.783247\n",
      "Validation set: Average loss: 0.782575, Accuracy: 334/411 (81%)\n",
      "\n",
      "Epoch: 8\n",
      "Training set: Average loss: 0.750349\n",
      "Validation set: Average loss: 0.748868, Accuracy: 353/411 (86%)\n",
      "\n",
      "Epoch: 9\n",
      "Training set: Average loss: 0.719538\n",
      "Validation set: Average loss: 0.718091, Accuracy: 373/411 (91%)\n",
      "\n",
      "Epoch: 10\n",
      "Training set: Average loss: 0.692613\n",
      "Validation set: Average loss: 0.692608, Accuracy: 393/411 (96%)\n",
      "\n",
      "Epoch: 11\n",
      "Training set: Average loss: 0.670806\n",
      "Validation set: Average loss: 0.672144, Accuracy: 393/411 (96%)\n",
      "\n",
      "Epoch: 12\n",
      "Training set: Average loss: 0.653745\n",
      "Validation set: Average loss: 0.656235, Accuracy: 394/411 (96%)\n",
      "\n",
      "Epoch: 13\n",
      "Training set: Average loss: 0.640456\n",
      "Validation set: Average loss: 0.643868, Accuracy: 397/411 (97%)\n",
      "\n",
      "Epoch: 14\n",
      "Training set: Average loss: 0.630051\n",
      "Validation set: Average loss: 0.634227, Accuracy: 397/411 (97%)\n",
      "\n",
      "Epoch: 15\n",
      "Training set: Average loss: 0.621806\n",
      "Validation set: Average loss: 0.626200, Accuracy: 397/411 (97%)\n",
      "\n",
      "Epoch: 16\n",
      "Training set: Average loss: 0.615029\n",
      "Validation set: Average loss: 0.619777, Accuracy: 397/411 (97%)\n",
      "\n",
      "Epoch: 17\n",
      "Training set: Average loss: 0.609496\n",
      "Validation set: Average loss: 0.614362, Accuracy: 397/411 (97%)\n",
      "\n",
      "Epoch: 18\n",
      "Training set: Average loss: 0.604905\n",
      "Validation set: Average loss: 0.609811, Accuracy: 397/411 (97%)\n",
      "\n",
      "Epoch: 19\n",
      "Training set: Average loss: 0.601028\n",
      "Validation set: Average loss: 0.605904, Accuracy: 397/411 (97%)\n",
      "\n",
      "Epoch: 20\n",
      "Training set: Average loss: 0.597696\n",
      "Validation set: Average loss: 0.602500, Accuracy: 400/411 (97%)\n",
      "\n",
      "Epoch: 21\n",
      "Training set: Average loss: 0.594816\n",
      "Validation set: Average loss: 0.599624, Accuracy: 400/411 (97%)\n",
      "\n",
      "Epoch: 22\n",
      "Training set: Average loss: 0.592313\n",
      "Validation set: Average loss: 0.597009, Accuracy: 400/411 (97%)\n",
      "\n",
      "Epoch: 23\n",
      "Training set: Average loss: 0.590136\n",
      "Validation set: Average loss: 0.594744, Accuracy: 400/411 (97%)\n",
      "\n",
      "Epoch: 24\n",
      "Training set: Average loss: 0.588191\n",
      "Validation set: Average loss: 0.592705, Accuracy: 402/411 (98%)\n",
      "\n",
      "Epoch: 25\n",
      "Training set: Average loss: 0.586471\n",
      "Validation set: Average loss: 0.590853, Accuracy: 402/411 (98%)\n",
      "\n",
      "Epoch: 26\n",
      "Training set: Average loss: 0.584909\n",
      "Validation set: Average loss: 0.589179, Accuracy: 402/411 (98%)\n",
      "\n",
      "Epoch: 27\n",
      "Training set: Average loss: 0.583516\n",
      "Validation set: Average loss: 0.587716, Accuracy: 402/411 (98%)\n",
      "\n",
      "Epoch: 28\n",
      "Training set: Average loss: 0.582258\n",
      "Validation set: Average loss: 0.586354, Accuracy: 402/411 (98%)\n",
      "\n",
      "Epoch: 29\n",
      "Training set: Average loss: 0.581106\n",
      "Validation set: Average loss: 0.585135, Accuracy: 402/411 (98%)\n",
      "\n",
      "Epoch: 30\n",
      "Training set: Average loss: 0.580057\n",
      "Validation set: Average loss: 0.584025, Accuracy: 402/411 (98%)\n",
      "\n",
      "Epoch: 31\n",
      "Training set: Average loss: 0.579082\n",
      "Validation set: Average loss: 0.582968, Accuracy: 402/411 (98%)\n",
      "\n",
      "Epoch: 32\n",
      "Training set: Average loss: 0.578188\n",
      "Validation set: Average loss: 0.582009, Accuracy: 402/411 (98%)\n",
      "\n",
      "Epoch: 33\n",
      "Training set: Average loss: 0.577365\n",
      "Validation set: Average loss: 0.581083, Accuracy: 404/411 (98%)\n",
      "\n",
      "Epoch: 34\n",
      "Training set: Average loss: 0.576596\n",
      "Validation set: Average loss: 0.580243, Accuracy: 404/411 (98%)\n",
      "\n",
      "Epoch: 35\n",
      "Training set: Average loss: 0.575884\n",
      "Validation set: Average loss: 0.579427, Accuracy: 404/411 (98%)\n",
      "\n",
      "Epoch: 36\n",
      "Training set: Average loss: 0.575213\n",
      "Validation set: Average loss: 0.578680, Accuracy: 404/411 (98%)\n",
      "\n",
      "Epoch: 37\n",
      "Training set: Average loss: 0.574589\n",
      "Validation set: Average loss: 0.577967, Accuracy: 405/411 (99%)\n",
      "\n",
      "Epoch: 38\n",
      "Training set: Average loss: 0.574000\n",
      "Validation set: Average loss: 0.577299, Accuracy: 407/411 (99%)\n",
      "\n",
      "Epoch: 39\n",
      "Training set: Average loss: 0.573451\n",
      "Validation set: Average loss: 0.576663, Accuracy: 407/411 (99%)\n",
      "\n",
      "Epoch: 40\n",
      "Training set: Average loss: 0.572933\n",
      "Validation set: Average loss: 0.576061, Accuracy: 407/411 (99%)\n",
      "\n",
      "Epoch: 41\n",
      "Training set: Average loss: 0.572443\n",
      "Validation set: Average loss: 0.575482, Accuracy: 407/411 (99%)\n",
      "\n",
      "Epoch: 42\n",
      "Training set: Average loss: 0.571979\n",
      "Validation set: Average loss: 0.574928, Accuracy: 407/411 (99%)\n",
      "\n",
      "Epoch: 43\n",
      "Training set: Average loss: 0.571539\n",
      "Validation set: Average loss: 0.574397, Accuracy: 408/411 (99%)\n",
      "\n",
      "Epoch: 44\n",
      "Training set: Average loss: 0.571120\n",
      "Validation set: Average loss: 0.573888, Accuracy: 408/411 (99%)\n",
      "\n",
      "Epoch: 45\n",
      "Training set: Average loss: 0.570724\n",
      "Validation set: Average loss: 0.573403, Accuracy: 408/411 (99%)\n",
      "\n",
      "Epoch: 46\n",
      "Training set: Average loss: 0.570347\n",
      "Validation set: Average loss: 0.572939, Accuracy: 408/411 (99%)\n",
      "\n",
      "Epoch: 47\n",
      "Training set: Average loss: 0.569989\n",
      "Validation set: Average loss: 0.572491, Accuracy: 408/411 (99%)\n",
      "\n",
      "Epoch: 48\n",
      "Training set: Average loss: 0.569646\n",
      "Validation set: Average loss: 0.572059, Accuracy: 408/411 (99%)\n",
      "\n",
      "Epoch: 49\n",
      "Training set: Average loss: 0.569319\n",
      "Validation set: Average loss: 0.571643, Accuracy: 408/411 (99%)\n",
      "\n",
      "Epoch: 50\n",
      "Training set: Average loss: 0.569007\n",
      "Validation set: Average loss: 0.571244, Accuracy: 408/411 (99%)\n",
      "\n"
     ]
    }
   ],
   "source": [
    "def train(model, data_loader, optimizer):\n",
    "    # Set the model to training mode\n",
    "    model.train()\n",
    "    train_loss = 0\n",
    "    \n",
    "    for batch, tensor in enumerate(data_loader):\n",
    "        data, target = tensor\n",
    "        #feedforward\n",
    "        optimizer.zero_grad()\n",
    "        out = model(data)\n",
    "        loss = loss_criteria(out, target)\n",
    "        train_loss += loss.item()\n",
    "\n",
    "        # backpropagate\n",
    "        loss.backward()\n",
    "        optimizer.step()\n",
    "\n",
    "    #Return average loss\n",
    "    avg_loss = train_loss / (batch+1)\n",
    "    print('Training set: Average loss: {:.6f}'.format(avg_loss))\n",
    "    return avg_loss\n",
    "           \n",
    "            \n",
    "def test(model, data_loader):\n",
    "    # Switch the model to evaluation mode (so we don't backpropagate)\n",
    "    model.eval()\n",
    "    test_loss = 0\n",
    "    correct = 0\n",
    "\n",
    "    with torch.no_grad():\n",
    "        batch_count = 0\n",
    "        for batch, tensor in enumerate(data_loader):\n",
    "            batch_count += 1\n",
    "            data, target = tensor\n",
    "            # Get the predictions\n",
    "            out = model(data)\n",
    "\n",
    "            # calculate the loss\n",
    "            test_loss += loss_criteria(out, target).item()\n",
    "\n",
    "            # Calculate the accuracy\n",
    "            _, predicted = torch.max(out.data, 1)\n",
    "            correct += torch.sum(target==predicted).item()\n",
    "            \n",
    "    # Calculate the average loss and total accuracy for this epoch\n",
    "    avg_loss = test_loss/batch_count\n",
    "    print('Validation set: Average loss: {:.6f}, Accuracy: {}/{} ({:.0f}%)\\n'.format(\n",
    "        avg_loss, correct, len(data_loader.dataset),\n",
    "        100. * correct / len(data_loader.dataset)))\n",
    "    \n",
    "    # return average loss for the epoch\n",
    "    return avg_loss\n",
    "\n",
    "# Specify the loss criteria (CrossEntropyLoss for multi-class classification)\n",
    "loss_criteria = nn.CrossEntropyLoss()\n",
    "\n",
    "# Use an \"Adam\" optimizer to adjust weights\n",
    "# (see https://pytorch.org/docs/stable/optim.html#algorithms for details of supported algorithms)\n",
    "learning_rate = 0.001\n",
    "optimizer = torch.optim.Adam(model.parameters(), lr=learning_rate)\n",
    "optimizer.zero_grad()\n",
    "\n",
    "# We'll track metrics for each epoch in these arrays\n",
    "epoch_nums = []\n",
    "training_loss = []\n",
    "validation_loss = []\n",
    "\n",
    "# Train over 50 epochs\n",
    "epochs = 50\n",
    "for epoch in range(1, epochs + 1):\n",
    "\n",
    "    # print the epoch number\n",
    "    print('Epoch: {}'.format(epoch))\n",
    "    \n",
    "    # Feed training data into the model to optimize the weights\n",
    "    train_loss = train(model, train_loader, optimizer)\n",
    "    \n",
    "    # Feed the test data into the model to check its performance\n",
    "    test_loss = test(model, test_loader)\n",
    "    \n",
    "    # Log the metrics for this epoch\n",
    "    epoch_nums.append(epoch)\n",
    "    training_loss.append(train_loss)\n",
    "    validation_loss.append(test_loss)\n"
   ]
  },
  {
   "cell_type": "markdown",
   "metadata": {},
   "source": [
    "학습 프로세스가 실행되는 동안 어떤 일이 일어나고 있는지 알아보겠습니다:\n",
    "\n",
    "1. 각 *epoch*에서 전체 학습 데이터셋이 네트워크를 통해 전달됩니다. 각 관측치에 대해 4개의 피쳐와 입력 층에 4개의 노드가 있으므로 각 관측치에 대한 피쳐는 4개의 값의 벡터로 해당 계층에 전달됩니다. 하지만 효율성을 위해 피쳐 벡터는 배치로 그룹화되므로 여러 기능 벡터의 매트릭스가 매번 제공됩니다. \n",
    "2. 피쳐 값의 매트릭스는 초기 가중치와 바이어스 값을 사용하여 가중 합계를 수행하는 함수로 처리됩니다. 그 다음 이 함수의 결과는 다음 레이어의 노드에 전달되는 값을 제한하기 위해 입력 층에 대한 활성화 함수에 의해 처리됩니다.\n",
    "3. 가중 합과 활성화 함수는 각 레이어에서 반복됩니다. 함수는 개별 스칼라 값이 아닌 벡터와 매트릭스에서 작동합니다. 다시 말해, 정방향 계산은 본질적으로 중첩된 선형 대수 함수의 연속입니다. 이것이 바로 데이터사이언티스트들이 그래픽 처리 장치(GPU)가 있는 컴퓨터를 선호하는 이유입니다. GPU는 매트릭스와 벡터 계산에 최적화되어 있기 때문입니다.\n",
    "4. 네트워크의 최종 레이어에서 출력 벡터에는 각 클래스에 대한 확률 값이 포함됩니다(이 경우 클래스 0, 1, 2). 이 벡터는 네트워크에서 계산된 값이 실제 값과 얼마나 떨어져 있는지를 결정하기 위해 *손실 함수* 에 의해 처리됩니다. 예를 들어, Gentoo 펭귄(클래스 1) 관측치에 대한 출력이 \\[0.3, 0.4, 0.3\\]라고 가정합니다. 올바른 예측은 \\[0.0, 1.0, 0.0\\]이므로 예측 값과 실제 값 사이의 차이는 \\[0.3, 0.6, 0.3\\]입니다. 이 차이는 각 배치에 대해 집계되고 실행 애그리게이트로 유지되어 해당 에포크의 학습 데이터에 의해 발생한 전체 오류 수준(*손실*)을 계산합니다.\n",
    "5. 각 에포크가 끝날 때마다 검증 데이터가 네트워크를 통과하며, 데이터의 손실과 정확도가 계산됩니다. 이렇게 하면 학습하지 않은 데이터를 사용하여 모델의 성능을 비교하고, 새로운 데이터에 맞게 일반화된 것인지, 아니면 학습 데이터에 *과적합* 된 것인지 판단할 수 있기 때문에 매우 중요합니다. \n",
    "6. 모든 데이터가 네트워크를 통해 전달되면 *학습* 데이터에 대한 손실 함수의 출력이 opimizer로 전달됩니다. 최적화 도구에서 손실 처리 방법에 대한 정확한 세부 정보는 사용 중인 특정 최적화 알고리즘에 따라 다르지만 기본적으로 입력 층에서 손실 함수에 이르는 전체 네트워크를 하나의 큰 중첩(*복합(composite)*) 기능으로 생각할 수 있습니다. optimizer는 네트워크에서 사용된 각 가중치와 바이어스 값과 관련하여 *부분 도함수*를 계산하기 위해 일부 미적분을 적용합니다. 내부 함수와 외부 함수의 미분에서 합성 함수(composite function)의 미분을 결정할 수 있도록 *체인 룰(chain rule)* 이라는 기능으로 인해 중첩 함수에 대해이를 효율적으로 수행 할 수 있습니다. 여러분은 여기서 수학의 세부사항에 대해 걱정할 필요가 없지만, 최종 결과는 편미분값(partial derivatives)이 우리에게 각 가중치와 바이어스 값에 대한 손실 함수의 기울기(또는 *gradient*)에 대해 말해준다는 것입니다. 다시 말해서, 우리는 손실을 줄이기 위해서 가중치와 바이어스 값을 증가시킬지 감소시킬지 결정할 수 있습니다.\n",
    "7. 가중치와 바이어스를 어느 방향으로 조정할 지를 결정한 optimizer는 *learning rate* 를 사용하여 어느 정도까지 조정할 지를 결정하고, *역전파(backpropagation)* 라는 프로세스를 통해 네트워크를 통해 역방향으로 연산하여 각 레이어의 가중치와 바이어스에 새로운 값을 할당한다.\n",
    "8. 이제 다음 에포크는 이전 에포크에서 수정된 가중치와 바이어스로 시작하는 전체 학습, 검증 및 역전파 과정을 반복한다. 이는 희망컨대 더 적은 손실값을 유도할 것이다.\n",
    "9. 이러한 에포크는 50번 반복된다.\n",
    "\n",
    "## 학습 및 검증 손실 리뷰\n",
    "\n",
    "학습이 완료되면 학습 및 모델 검증 과정에서 기록한 손실 메트릭스를 검토할 수 있습니다. 저희는 두 가지를 정말 찾고 있습니다:\n",
    "* 손실은 각 에포크에 따라 감소해야 하며, 모델이 올바른 라벨을 예측하기 위한 올바른 가중치와 편향을 학습하고 있음을 보여준다.\n",
    "* 훈련 손실과 검증 손실도 유사한 추세를 따라야 하며, 이는 모델이 훈련 데이터에 과적합되지 않음을 보여준다.\\\n",
    "\n",
    "손실 메트릭을 플롯팅하고 다음을 살펴보겠습니다:"
   ]
  },
  {
   "cell_type": "code",
   "execution_count": 9,
   "metadata": {},
   "outputs": [
    {
     "data": {
      "image/png": "[encoded data removed]",
      "text/plain": [
       "<Figure size 432x288 with 1 Axes>"
      ]
     },
     "metadata": {
      "needs_background": "light"
     },
     "output_type": "display_data"
    }
   ],
   "source": [
    "%matplotlib inline\n",
    "from matplotlib import pyplot as plt\n",
    "\n",
    "plt.plot(epoch_nums, training_loss)\n",
    "plt.plot(epoch_nums, validation_loss)\n",
    "plt.xlabel('epoch')\n",
    "plt.ylabel('loss')\n",
    "plt.legend(['training', 'validation'], loc='upper right')\n",
    "plt.show()"
   ]
  },
  {
   "cell_type": "markdown",
   "metadata": {},
   "source": [
    "## 학습된 가중치와 편향 확인하기\n",
    "\n",
    "학습된 모델은 훈련 과정 중 optimizer에 의해 결정된 최종 가중치와 편향으로 구성된다. 네트워크 모델에 따라 각 레이어에 대해 다음 값을 예상해야 합니다.\n",
    "* 1번 레이어 : 10개의 출력 노드로 가는 4개의 입력 값이 있으므로 10 x 4 가중치와 10개의 바이어스 값이 있어야 합니다.\n",
    "* 2번 레이어 : 10개의 출력 노드로 가는 10개의 입력 값이 있으므로 10 x 10개의 가중치와 10개의 바이어스 값이 있어야 합니다.\n",
    "* 3번 레이어 : 3개의 출력 노드로 가는 10개의 입력 값이 있으므로 3 x 10개의 가중치와 3개의 바이어스 값이 있어야 합니다."
   ]
  },
  {
   "cell_type": "code",
   "execution_count": 10,
   "metadata": {
    "tags": []
   },
   "outputs": [
    {
     "name": "stdout",
     "output_type": "stream",
     "text": [
      "fc1.weight \n",
      " [[-0.00374341  0.2682218  -0.41152257 -0.3679695 ]\n",
      " [-0.20487966 -0.28398493  0.13597898  0.6053104 ]\n",
      " [-0.04437202  0.13230628 -0.15110654 -0.09828269]\n",
      " [-0.47767425 -0.33114105 -0.20611155  0.01852179]\n",
      " [ 0.17907079  0.28123733 -0.35748705 -0.23587279]\n",
      " [ 0.40088734  0.382148   -0.20181231  0.3537034 ]\n",
      " [-0.08059168  0.05290705  0.4527381  -0.46383518]\n",
      " [-0.35555413 -0.16605727 -0.23530953  0.38971528]\n",
      " [-0.32408983 -0.23016644 -0.34932023 -0.4682805 ]\n",
      " [-0.43653095  0.80248505  0.29239044  0.17577983]]\n",
      "fc1.bias \n",
      " [ 0.02629578 -0.26949045  0.08459234 -0.46684736 -0.3798124  -0.4262236\n",
      "  0.31546897  0.25337356 -0.22174752  0.2345465 ]\n",
      "fc2.weight \n",
      " [[ 2.02246875e-01  3.14372510e-01  1.25505149e-01  4.27201092e-02\n",
      "   2.12026387e-01 -1.86195642e-01  5.89271486e-02 -2.45173126e-01\n",
      "  -2.19173074e-01 -1.63358063e-01]\n",
      " [ 1.43084526e-01  1.60798699e-01 -1.87318310e-01  9.55346525e-02\n",
      "   1.92188621e-01  1.52368024e-01  1.20740533e-02  4.16618437e-02\n",
      "   1.96180314e-01  9.25334394e-01]\n",
      " [-2.43692577e-01 -1.43560484e-01  1.24280632e-01  2.62010306e-01\n",
      "   2.59306699e-01  3.23746145e-01  6.29339218e-02 -2.45525643e-01\n",
      "   2.90905833e-02 -6.68823123e-01]\n",
      " [-2.94709772e-01  5.11151612e-01  2.40446895e-01 -3.15446049e-01\n",
      "   5.91889918e-02 -1.04206558e-02 -5.20388186e-02 -1.01968892e-01\n",
      "   1.21607333e-01 -4.82648820e-01]\n",
      " [ 1.15926355e-01  1.59918934e-01  2.26378471e-01  1.18241072e-01\n",
      "  -3.12981755e-01 -2.05135971e-01  1.57897264e-01  6.61869049e-02\n",
      "  -2.46684223e-01 -1.82090104e-01]\n",
      " [ 2.97491044e-01  5.08512676e-01 -1.37883261e-01 -7.95897096e-02\n",
      "  -3.19968253e-01 -9.41922441e-02 -2.38138139e-01 -2.13026911e-01\n",
      "  -1.74240172e-02 -3.14111978e-01]\n",
      " [-1.29504845e-01  1.87642485e-01 -1.92436963e-01  2.86935598e-01\n",
      "   2.16710836e-01 -2.66669482e-01 -7.87041336e-02  1.42690241e-02\n",
      "   4.61379588e-02  7.50010908e-02]\n",
      " [ 1.24096721e-01  1.89420879e-02 -1.54296622e-01  1.49635494e-01\n",
      "  -3.03341120e-01 -1.87430307e-01 -7.91612566e-02 -1.54038772e-01\n",
      "  -1.10627025e-01 -2.59187132e-01]\n",
      " [-6.72664344e-02  3.37419212e-01 -2.06011564e-01 -1.62286162e-02\n",
      "   2.08991051e-01 -1.28818750e-01  8.78867507e-03  8.23016744e-04\n",
      "   6.39986098e-02  2.39946589e-01]\n",
      " [ 2.99545556e-01  2.00822324e-01  3.00230891e-01 -2.28701234e-02\n",
      "  -2.84074187e-01 -1.49916381e-01  2.15321153e-01 -2.04995275e-03\n",
      "  -1.57179862e-01 -2.42329061e-01]]\n",
      "fc2.bias \n",
      " [-0.2959424   0.13159421 -0.27384382  0.07626942  0.17096573 -0.4653062\n",
      "  0.19725719 -0.24745122 -0.09499434 -0.1282217 ]\n",
      "fc3.weight \n",
      " [[-0.06091028  0.32780746 -0.9960096  -1.0807507  -0.04948315 -0.3577183\n",
      "  -0.14365433  0.11912274  0.19421846 -0.02134135]\n",
      " [ 0.27809682 -0.47728527  0.09838016  0.83235973 -0.2853832   0.9088981\n",
      "  -0.03649095 -0.14116624  0.38886335 -0.25554216]\n",
      " [ 0.03393281 -0.19362502  1.0301037  -0.24135342  0.15194914 -0.6721673\n",
      "  -0.07604478 -0.06650442 -1.1390747   0.17134616]]\n",
      "fc3.bias \n",
      " [ 0.5242965  -0.09666859 -0.13340557]\n"
     ]
    }
   ],
   "source": [
    "for param_tensor in model.state_dict():\n",
    "    print(param_tensor, \"\\n\", model.state_dict()[param_tensor].numpy())"
   ]
  },
  {
   "cell_type": "markdown",
   "metadata": {},
   "source": [
    "## 모델 성능 평가하기\n",
    "\n",
    "그렇다면, 이 모델은 좋은 것일까요? 검증 데이터에서 보고된 정확도는 상당히 예측이 잘 된 것처럼 보이지만, 일반적으로 가능한 각 클래스의 예측을 좀 더 깊이 파고 비교하는 것이 유용합니다. 분류 모델의 성능을 시각화하는 일반적인 방법은 각 클래스에 대한 올바른 예측과 잘못된 예측의 crosstab을 보여 주는 *혼동 행렬(confusion matrix)* 을 만드는 것입니다."
   ]
  },
  {
   "cell_type": "code",
   "execution_count": 11,
   "metadata": {},
   "outputs": [
    {
     "data": {
      "image/png": "[encoded data removed]",
      "text/plain": [
       "<Figure size 432x288 with 2 Axes>"
      ]
     },
     "metadata": {
      "needs_background": "light"
     },
     "output_type": "display_data"
    }
   ],
   "source": [
    "#Pytorch doesn't have a built-in confusion matrix metric, so we'll use SciKit-Learn\n",
    "from sklearn.metrics import confusion_matrix\n",
    "import numpy as np\n",
    "\n",
    "# Set the model to evaluate mode\n",
    "model.eval()\n",
    "\n",
    "# Get predictions for the test data\n",
    "x = torch.Tensor(x_test).float()\n",
    "_, predicted = torch.max(model(x).data, 1)\n",
    "\n",
    "# Plot the confusion matrix\n",
    "cm = confusion_matrix(y_test, predicted.numpy())\n",
    "plt.imshow(cm, interpolation=\"nearest\", cmap=plt.cm.Blues)\n",
    "plt.colorbar()\n",
    "tick_marks = np.arange(len(penguin_classes))\n",
    "plt.xticks(tick_marks, penguin_classes, rotation=45)\n",
    "plt.yticks(tick_marks, penguin_classes)\n",
    "plt.xlabel(\"Actual Species\")\n",
    "plt.ylabel(\"Predicted Species\")\n",
    "plt.show()"
   ]
  },
  {
   "cell_type": "markdown",
   "metadata": {},
   "source": [
    "혼동 행렬은 각 클래스에 대해 부정확한 예측보다 더 많은 정확도가 있음을 강한 대각선 색상으로 표시해서 나타내야 한다.\n",
    "\n",
    "## 훈련된 모델 저장하기\n",
    "이제 상당히 정확하다고 생각되는 모델이 생겼으므로 나중에 사용할 수 있도록 교육된 가중치를 저장할 수 있습니다."
   ]
  },
  {
   "cell_type": "code",
   "execution_count": 12,
   "metadata": {},
   "outputs": [
    {
     "name": "stdout",
     "output_type": "stream",
     "text": [
      "model saved as models/penguin_classifier.pt\n"
     ]
    }
   ],
   "source": [
    "# Save the model weights\n",
    "model_file = 'models/penguin_classifier.pt'\n",
    "torch.save(model.state_dict(), model_file)\n",
    "del model\n",
    "print('model saved as', model_file)"
   ]
  },
  {
   "cell_type": "markdown",
   "metadata": {},
   "source": [
    "## 학습된 모델 사용하기\n",
    "\n",
    "우리가 새로운 펭귄을 관찰하게 되면, 우리는 학습된 모델을 사용하여 그 펭귄의 종을 예측할 수 있다."
   ]
  },
  {
   "cell_type": "code",
   "execution_count": 13,
   "metadata": {
    "tags": []
   },
   "outputs": [
    {
     "name": "stdout",
     "output_type": "stream",
     "text": [
      "New sample: [[50.4, 15.3, 20, 50]]\n",
      "Prediction: Gentoo\n"
     ]
    }
   ],
   "source": [
    "# New penguin features\n",
    "x_new = [[50.4,15.3,20,50]]\n",
    "print ('New sample: {}'.format(x_new))\n",
    "\n",
    "# Create a new model class and load weights\n",
    "model = PenguinNet()\n",
    "model.load_state_dict(torch.load(model_file))\n",
    "\n",
    "# Set model to evaluation mode\n",
    "model.eval()\n",
    "\n",
    "# Get a prediction for the new data sample\n",
    "x = torch.Tensor(x_new).float()\n",
    "_, predicted = torch.max(model(x).data, 1)\n",
    "\n",
    "print('Prediction:',penguin_classes[predicted.item()])"
   ]
  },
  {
   "cell_type": "markdown",
   "metadata": {},
   "source": [
    "## 더 배우기\n",
    "\n",
    "이 노트북은 간단한 PyTorch 예를 사용하여 심층 신경망에 관련된 기본 개념과 원리를 이해하도록 설계되었습니다. PyTorch에 대해 자세히 알아보려면 [tutorials on the PyTorch web site](https://pytorch.org/tutorials/)를 참조하십시오."
   ]
  }
 ],
 "metadata": {
  "kernelspec": {
   "display_name": "Python 3",
   "language": "python",
   "name": "python3"
  },
  "language_info": {
   "codemirror_mode": {
    "name": "ipython",
    "version": 3
   },
   "file_extension": ".py",
   "mimetype": "text/x-python",
   "name": "python",
   "nbconvert_exporter": "python",
   "pygments_lexer": "ipython3",
   "version": "3.7.5"
  }
 },
 "nbformat": 4,
 "nbformat_minor": 2
}
